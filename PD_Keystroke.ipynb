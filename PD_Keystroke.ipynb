{
 "cells": [
  {
   "cell_type": "markdown",
   "metadata": {},
   "source": [
    "# **Early Diagnosis of Parkinson's Disease via keystrokes**"
   ]
  },
  {
   "cell_type": "code",
   "execution_count": 202,
   "metadata": {},
   "outputs": [],
   "source": [
    "import pandas as pd\n",
    "import numpy as np\n",
    "import matplotlib.pyplot as plt\n",
    "import seaborn as sns\n",
    "%matplotlib inline\n",
    "\n",
    "from IPython.core.interactiveshell import InteractiveShell\n",
    "InteractiveShell.ast_node_interactivity = \"all\"\n",
    "from IPython.core.display import display, HTML"
   ]
  },
  {
   "cell_type": "markdown",
   "metadata": {},
   "source": [
    "df.csv and nqdf.csv are the final processed data in columns and rows ready for analysis.<br>\n",
    "df.csv is for Tappy data set and nq is for neuroQWERTY data set."
   ]
  },
  {
   "cell_type": "code",
   "execution_count": 203,
   "metadata": {},
   "outputs": [
    {
     "data": {
      "text/html": [
       "<div>\n",
       "<style scoped>\n",
       "    .dataframe tbody tr th:only-of-type {\n",
       "        vertical-align: middle;\n",
       "    }\n",
       "\n",
       "    .dataframe tbody tr th {\n",
       "        vertical-align: top;\n",
       "    }\n",
       "\n",
       "    .dataframe thead th {\n",
       "        text-align: right;\n",
       "    }\n",
       "</style>\n",
       "<table border=\"1\" class=\"dataframe\">\n",
       "  <thead>\n",
       "    <tr style=\"text-align: right;\">\n",
       "      <th></th>\n",
       "      <th>Birth</th>\n",
       "      <th>DA</th>\n",
       "      <th>DiagnosisYr</th>\n",
       "      <th>Gender</th>\n",
       "      <th>Impact</th>\n",
       "      <th>Levadopa</th>\n",
       "      <th>MAOB</th>\n",
       "      <th>OtherMed</th>\n",
       "      <th>Parkinson</th>\n",
       "      <th>Sidedness</th>\n",
       "      <th>...</th>\n",
       "      <th>HTbin4</th>\n",
       "      <th>HTbin5</th>\n",
       "      <th>HTbin6</th>\n",
       "      <th>HTbin7</th>\n",
       "      <th>HTbin8</th>\n",
       "      <th>HTbin9</th>\n",
       "      <th>HTVar</th>\n",
       "      <th>FTVar</th>\n",
       "      <th>HTmean</th>\n",
       "      <th>FTmean</th>\n",
       "    </tr>\n",
       "  </thead>\n",
       "  <tbody>\n",
       "    <tr>\n",
       "      <th>0</th>\n",
       "      <td>1937</td>\n",
       "      <td>False</td>\n",
       "      <td>2015</td>\n",
       "      <td>Female</td>\n",
       "      <td>Severe</td>\n",
       "      <td>True</td>\n",
       "      <td>False</td>\n",
       "      <td>True</td>\n",
       "      <td>True</td>\n",
       "      <td>Right</td>\n",
       "      <td>...</td>\n",
       "      <td>0.00000</td>\n",
       "      <td>0.0</td>\n",
       "      <td>0.0</td>\n",
       "      <td>0.0</td>\n",
       "      <td>0.0</td>\n",
       "      <td>0.0</td>\n",
       "      <td>1159.336994</td>\n",
       "      <td>22251.264781</td>\n",
       "      <td>124.658260</td>\n",
       "      <td>418.255523</td>\n",
       "    </tr>\n",
       "    <tr>\n",
       "      <th>1</th>\n",
       "      <td>1940</td>\n",
       "      <td>False</td>\n",
       "      <td>------</td>\n",
       "      <td>Female</td>\n",
       "      <td>------</td>\n",
       "      <td>False</td>\n",
       "      <td>False</td>\n",
       "      <td>False</td>\n",
       "      <td>False</td>\n",
       "      <td>None</td>\n",
       "      <td>...</td>\n",
       "      <td>0.00000</td>\n",
       "      <td>0.0</td>\n",
       "      <td>0.0</td>\n",
       "      <td>0.0</td>\n",
       "      <td>0.0</td>\n",
       "      <td>0.0</td>\n",
       "      <td>516.962542</td>\n",
       "      <td>4191.480253</td>\n",
       "      <td>98.701331</td>\n",
       "      <td>124.694140</td>\n",
       "    </tr>\n",
       "    <tr>\n",
       "      <th>2</th>\n",
       "      <td>1937</td>\n",
       "      <td>False</td>\n",
       "      <td>2015</td>\n",
       "      <td>Female</td>\n",
       "      <td>Mild</td>\n",
       "      <td>False</td>\n",
       "      <td>False</td>\n",
       "      <td>True</td>\n",
       "      <td>True</td>\n",
       "      <td>Right</td>\n",
       "      <td>...</td>\n",
       "      <td>0.01227</td>\n",
       "      <td>0.0</td>\n",
       "      <td>0.0</td>\n",
       "      <td>0.0</td>\n",
       "      <td>0.0</td>\n",
       "      <td>0.0</td>\n",
       "      <td>2888.547405</td>\n",
       "      <td>16863.756301</td>\n",
       "      <td>175.307975</td>\n",
       "      <td>346.656442</td>\n",
       "    </tr>\n",
       "    <tr>\n",
       "      <th>3</th>\n",
       "      <td>1943</td>\n",
       "      <td>True</td>\n",
       "      <td>2009</td>\n",
       "      <td>Female</td>\n",
       "      <td>Mild</td>\n",
       "      <td>False</td>\n",
       "      <td>False</td>\n",
       "      <td>True</td>\n",
       "      <td>True</td>\n",
       "      <td>Right</td>\n",
       "      <td>...</td>\n",
       "      <td>0.00000</td>\n",
       "      <td>0.0</td>\n",
       "      <td>0.0</td>\n",
       "      <td>0.0</td>\n",
       "      <td>0.0</td>\n",
       "      <td>0.0</td>\n",
       "      <td>880.261337</td>\n",
       "      <td>18173.314440</td>\n",
       "      <td>125.230868</td>\n",
       "      <td>280.499562</td>\n",
       "    </tr>\n",
       "    <tr>\n",
       "      <th>4</th>\n",
       "      <td>1953</td>\n",
       "      <td>True</td>\n",
       "      <td>2012</td>\n",
       "      <td>Male</td>\n",
       "      <td>Medium</td>\n",
       "      <td>True</td>\n",
       "      <td>True</td>\n",
       "      <td>False</td>\n",
       "      <td>True</td>\n",
       "      <td>Left</td>\n",
       "      <td>...</td>\n",
       "      <td>0.00000</td>\n",
       "      <td>0.0</td>\n",
       "      <td>0.0</td>\n",
       "      <td>0.0</td>\n",
       "      <td>0.0</td>\n",
       "      <td>0.0</td>\n",
       "      <td>177.360998</td>\n",
       "      <td>7682.957938</td>\n",
       "      <td>70.229277</td>\n",
       "      <td>153.107970</td>\n",
       "    </tr>\n",
       "  </tbody>\n",
       "</table>\n",
       "<p>5 rows × 37 columns</p>\n",
       "</div>"
      ],
      "text/plain": [
       "  Birth     DA DiagnosisYr  Gender  Impact  Levadopa   MAOB  OtherMed  \\\n",
       "0  1937  False        2015  Female  Severe      True  False      True   \n",
       "1  1940  False      ------  Female  ------     False  False     False   \n",
       "2  1937  False        2015  Female    Mild     False  False      True   \n",
       "3  1943   True        2009  Female    Mild     False  False      True   \n",
       "4  1953   True        2012    Male  Medium      True   True     False   \n",
       "\n",
       "   Parkinson Sidedness     ...       HTbin4 HTbin5 HTbin6  HTbin7  HTbin8  \\\n",
       "0       True     Right     ...      0.00000    0.0    0.0     0.0     0.0   \n",
       "1      False      None     ...      0.00000    0.0    0.0     0.0     0.0   \n",
       "2       True     Right     ...      0.01227    0.0    0.0     0.0     0.0   \n",
       "3       True     Right     ...      0.00000    0.0    0.0     0.0     0.0   \n",
       "4       True      Left     ...      0.00000    0.0    0.0     0.0     0.0   \n",
       "\n",
       "   HTbin9        HTVar         FTVar      HTmean      FTmean  \n",
       "0     0.0  1159.336994  22251.264781  124.658260  418.255523  \n",
       "1     0.0   516.962542   4191.480253   98.701331  124.694140  \n",
       "2     0.0  2888.547405  16863.756301  175.307975  346.656442  \n",
       "3     0.0   880.261337  18173.314440  125.230868  280.499562  \n",
       "4     0.0   177.360998   7682.957938   70.229277  153.107970  \n",
       "\n",
       "[5 rows x 37 columns]"
      ]
     },
     "execution_count": 203,
     "metadata": {},
     "output_type": "execute_result"
    },
    {
     "data": {
      "text/html": [
       "<div>\n",
       "<style scoped>\n",
       "    .dataframe tbody tr th:only-of-type {\n",
       "        vertical-align: middle;\n",
       "    }\n",
       "\n",
       "    .dataframe tbody tr th {\n",
       "        vertical-align: top;\n",
       "    }\n",
       "\n",
       "    .dataframe thead th {\n",
       "        text-align: right;\n",
       "    }\n",
       "</style>\n",
       "<table border=\"1\" class=\"dataframe\">\n",
       "  <thead>\n",
       "    <tr style=\"text-align: right;\">\n",
       "      <th></th>\n",
       "      <th>FTbin1</th>\n",
       "      <th>FTbin10</th>\n",
       "      <th>FTbin2</th>\n",
       "      <th>FTbin3</th>\n",
       "      <th>FTbin4</th>\n",
       "      <th>FTbin5</th>\n",
       "      <th>FTbin6</th>\n",
       "      <th>FTbin7</th>\n",
       "      <th>FTbin8</th>\n",
       "      <th>FTbin9</th>\n",
       "      <th>...</th>\n",
       "      <th>HTbin6</th>\n",
       "      <th>HTbin7</th>\n",
       "      <th>HTbin8</th>\n",
       "      <th>HTbin9</th>\n",
       "      <th>UserKey</th>\n",
       "      <th>HTVar</th>\n",
       "      <th>FTVar</th>\n",
       "      <th>HTmean</th>\n",
       "      <th>FTmean</th>\n",
       "      <th>Parkinson</th>\n",
       "    </tr>\n",
       "  </thead>\n",
       "  <tbody>\n",
       "    <tr>\n",
       "      <th>0</th>\n",
       "      <td>0.727823</td>\n",
       "      <td>0.000000</td>\n",
       "      <td>0.225849</td>\n",
       "      <td>0.046328</td>\n",
       "      <td>0.000000</td>\n",
       "      <td>0.000000</td>\n",
       "      <td>0.000000</td>\n",
       "      <td>0.000000</td>\n",
       "      <td>0.000000</td>\n",
       "      <td>0.000000</td>\n",
       "      <td>...</td>\n",
       "      <td>0.0</td>\n",
       "      <td>0.0</td>\n",
       "      <td>0.0</td>\n",
       "      <td>0.0</td>\n",
       "      <td>76</td>\n",
       "      <td>1161.788344</td>\n",
       "      <td>3275.284760</td>\n",
       "      <td>122.496815</td>\n",
       "      <td>76.366860</td>\n",
       "      <td>0.0</td>\n",
       "    </tr>\n",
       "    <tr>\n",
       "      <th>1</th>\n",
       "      <td>0.299453</td>\n",
       "      <td>0.000000</td>\n",
       "      <td>0.395624</td>\n",
       "      <td>0.170465</td>\n",
       "      <td>0.065178</td>\n",
       "      <td>0.029626</td>\n",
       "      <td>0.030082</td>\n",
       "      <td>0.009572</td>\n",
       "      <td>0.000000</td>\n",
       "      <td>0.000000</td>\n",
       "      <td>...</td>\n",
       "      <td>0.0</td>\n",
       "      <td>0.0</td>\n",
       "      <td>0.0</td>\n",
       "      <td>0.0</td>\n",
       "      <td>84</td>\n",
       "      <td>626.996339</td>\n",
       "      <td>16552.446605</td>\n",
       "      <td>74.630264</td>\n",
       "      <td>174.673974</td>\n",
       "      <td>1.0</td>\n",
       "    </tr>\n",
       "    <tr>\n",
       "      <th>2</th>\n",
       "      <td>0.085486</td>\n",
       "      <td>0.009864</td>\n",
       "      <td>0.287459</td>\n",
       "      <td>0.205730</td>\n",
       "      <td>0.167684</td>\n",
       "      <td>0.099577</td>\n",
       "      <td>0.067168</td>\n",
       "      <td>0.031470</td>\n",
       "      <td>0.025834</td>\n",
       "      <td>0.019728</td>\n",
       "      <td>...</td>\n",
       "      <td>0.0</td>\n",
       "      <td>0.0</td>\n",
       "      <td>0.0</td>\n",
       "      <td>0.0</td>\n",
       "      <td>79</td>\n",
       "      <td>1070.860539</td>\n",
       "      <td>38073.472187</td>\n",
       "      <td>106.890982</td>\n",
       "      <td>304.552043</td>\n",
       "      <td>0.0</td>\n",
       "    </tr>\n",
       "    <tr>\n",
       "      <th>3</th>\n",
       "      <td>0.029189</td>\n",
       "      <td>0.112973</td>\n",
       "      <td>0.122162</td>\n",
       "      <td>0.207568</td>\n",
       "      <td>0.188108</td>\n",
       "      <td>0.128108</td>\n",
       "      <td>0.080000</td>\n",
       "      <td>0.049189</td>\n",
       "      <td>0.049730</td>\n",
       "      <td>0.032973</td>\n",
       "      <td>...</td>\n",
       "      <td>0.0</td>\n",
       "      <td>0.0</td>\n",
       "      <td>0.0</td>\n",
       "      <td>0.0</td>\n",
       "      <td>80</td>\n",
       "      <td>1869.010738</td>\n",
       "      <td>96908.776906</td>\n",
       "      <td>160.566270</td>\n",
       "      <td>467.000432</td>\n",
       "      <td>1.0</td>\n",
       "    </tr>\n",
       "    <tr>\n",
       "      <th>4</th>\n",
       "      <td>0.086847</td>\n",
       "      <td>0.165161</td>\n",
       "      <td>0.196787</td>\n",
       "      <td>0.149096</td>\n",
       "      <td>0.086345</td>\n",
       "      <td>0.076305</td>\n",
       "      <td>0.083333</td>\n",
       "      <td>0.055723</td>\n",
       "      <td>0.052711</td>\n",
       "      <td>0.047691</td>\n",
       "      <td>...</td>\n",
       "      <td>0.0</td>\n",
       "      <td>0.0</td>\n",
       "      <td>0.0</td>\n",
       "      <td>0.0</td>\n",
       "      <td>72</td>\n",
       "      <td>4215.091124</td>\n",
       "      <td>143183.922577</td>\n",
       "      <td>169.471637</td>\n",
       "      <td>490.094528</td>\n",
       "      <td>1.0</td>\n",
       "    </tr>\n",
       "  </tbody>\n",
       "</table>\n",
       "<p>5 rows × 26 columns</p>\n",
       "</div>"
      ],
      "text/plain": [
       "     FTbin1   FTbin10    FTbin2    FTbin3    FTbin4    FTbin5    FTbin6  \\\n",
       "0  0.727823  0.000000  0.225849  0.046328  0.000000  0.000000  0.000000   \n",
       "1  0.299453  0.000000  0.395624  0.170465  0.065178  0.029626  0.030082   \n",
       "2  0.085486  0.009864  0.287459  0.205730  0.167684  0.099577  0.067168   \n",
       "3  0.029189  0.112973  0.122162  0.207568  0.188108  0.128108  0.080000   \n",
       "4  0.086847  0.165161  0.196787  0.149096  0.086345  0.076305  0.083333   \n",
       "\n",
       "     FTbin7    FTbin8    FTbin9    ...      HTbin6  HTbin7  HTbin8  HTbin9  \\\n",
       "0  0.000000  0.000000  0.000000    ...         0.0     0.0     0.0     0.0   \n",
       "1  0.009572  0.000000  0.000000    ...         0.0     0.0     0.0     0.0   \n",
       "2  0.031470  0.025834  0.019728    ...         0.0     0.0     0.0     0.0   \n",
       "3  0.049189  0.049730  0.032973    ...         0.0     0.0     0.0     0.0   \n",
       "4  0.055723  0.052711  0.047691    ...         0.0     0.0     0.0     0.0   \n",
       "\n",
       "   UserKey        HTVar          FTVar      HTmean      FTmean  Parkinson  \n",
       "0       76  1161.788344    3275.284760  122.496815   76.366860        0.0  \n",
       "1       84   626.996339   16552.446605   74.630264  174.673974        1.0  \n",
       "2       79  1070.860539   38073.472187  106.890982  304.552043        0.0  \n",
       "3       80  1869.010738   96908.776906  160.566270  467.000432        1.0  \n",
       "4       72  4215.091124  143183.922577  169.471637  490.094528        1.0  \n",
       "\n",
       "[5 rows x 26 columns]"
      ]
     },
     "execution_count": 203,
     "metadata": {},
     "output_type": "execute_result"
    }
   ],
   "source": [
    "tp = pd.read_csv('dfData/df.csv')\n",
    "nq = pd.read_csv('dfData/nqdf.csv')\n",
    "tp.head()\n",
    "nq.head()"
   ]
  },
  {
   "cell_type": "markdown",
   "metadata": {},
   "source": [
    "Many columns in Tappy data set do not have a matching data in neuroQWERTY data set. They are generally user's information and thus discarded."
   ]
  },
  {
   "cell_type": "code",
   "execution_count": 204,
   "metadata": {},
   "outputs": [],
   "source": [
    "fltbin = ['FTbin1', 'FTbin2', 'FTbin3', 'FTbin4', 'FTbin5', 'FTbin6', 'FTbin7', 'FTbin8', 'FTbin9', 'FTbin10']\n",
    "holdbin = ['HTbin1', 'HTbin2', 'HTbin3', 'HTbin4', 'HTbin5', 'HTbin6', 'HTbin7', 'HTbin8', 'HTbin9', 'HTbin10']\n",
    "st = ['Parkinson','UserKey','HTVar', 'FTVar', 'HTmean', 'FTmean']  \n",
    "\n",
    "tpdf = tp[st + fltbin + holdbin ]\n",
    "nqdf = nq[st + fltbin + holdbin ]"
   ]
  },
  {
   "cell_type": "code",
   "execution_count": 205,
   "metadata": {},
   "outputs": [
    {
     "data": {
      "text/html": [
       "<div>\n",
       "<style scoped>\n",
       "    .dataframe tbody tr th:only-of-type {\n",
       "        vertical-align: middle;\n",
       "    }\n",
       "\n",
       "    .dataframe tbody tr th {\n",
       "        vertical-align: top;\n",
       "    }\n",
       "\n",
       "    .dataframe thead th {\n",
       "        text-align: right;\n",
       "    }\n",
       "</style>\n",
       "<table border=\"1\" class=\"dataframe\">\n",
       "  <thead>\n",
       "    <tr style=\"text-align: right;\">\n",
       "      <th></th>\n",
       "      <th>Parkinson</th>\n",
       "      <th>UserKey</th>\n",
       "      <th>HTVar</th>\n",
       "      <th>FTVar</th>\n",
       "      <th>HTmean</th>\n",
       "      <th>FTmean</th>\n",
       "      <th>FTbin1</th>\n",
       "      <th>FTbin2</th>\n",
       "      <th>FTbin3</th>\n",
       "      <th>FTbin4</th>\n",
       "      <th>...</th>\n",
       "      <th>HTbin1</th>\n",
       "      <th>HTbin2</th>\n",
       "      <th>HTbin3</th>\n",
       "      <th>HTbin4</th>\n",
       "      <th>HTbin5</th>\n",
       "      <th>HTbin6</th>\n",
       "      <th>HTbin7</th>\n",
       "      <th>HTbin8</th>\n",
       "      <th>HTbin9</th>\n",
       "      <th>HTbin10</th>\n",
       "    </tr>\n",
       "  </thead>\n",
       "  <tbody>\n",
       "    <tr>\n",
       "      <th>0</th>\n",
       "      <td>True</td>\n",
       "      <td>ZCPALNB4ZM</td>\n",
       "      <td>1159.336994</td>\n",
       "      <td>22251.264781</td>\n",
       "      <td>124.658260</td>\n",
       "      <td>418.255523</td>\n",
       "      <td>0.012708</td>\n",
       "      <td>0.076246</td>\n",
       "      <td>0.143695</td>\n",
       "      <td>0.190616</td>\n",
       "      <td>...</td>\n",
       "      <td>0.234604</td>\n",
       "      <td>0.740958</td>\n",
       "      <td>0.024438</td>\n",
       "      <td>0.00000</td>\n",
       "      <td>0.0</td>\n",
       "      <td>0.0</td>\n",
       "      <td>0.0</td>\n",
       "      <td>0.0</td>\n",
       "      <td>0.0</td>\n",
       "      <td>0.0</td>\n",
       "    </tr>\n",
       "    <tr>\n",
       "      <th>1</th>\n",
       "      <td>False</td>\n",
       "      <td>IDYIDJBAXF</td>\n",
       "      <td>516.962542</td>\n",
       "      <td>4191.480253</td>\n",
       "      <td>98.701331</td>\n",
       "      <td>124.694140</td>\n",
       "      <td>0.384938</td>\n",
       "      <td>0.485074</td>\n",
       "      <td>0.122017</td>\n",
       "      <td>0.007970</td>\n",
       "      <td>...</td>\n",
       "      <td>0.557256</td>\n",
       "      <td>0.442744</td>\n",
       "      <td>0.000000</td>\n",
       "      <td>0.00000</td>\n",
       "      <td>0.0</td>\n",
       "      <td>0.0</td>\n",
       "      <td>0.0</td>\n",
       "      <td>0.0</td>\n",
       "      <td>0.0</td>\n",
       "      <td>0.0</td>\n",
       "    </tr>\n",
       "    <tr>\n",
       "      <th>2</th>\n",
       "      <td>True</td>\n",
       "      <td>RYQGAPGNAM</td>\n",
       "      <td>2888.547405</td>\n",
       "      <td>16863.756301</td>\n",
       "      <td>175.307975</td>\n",
       "      <td>346.656442</td>\n",
       "      <td>0.000000</td>\n",
       "      <td>0.092025</td>\n",
       "      <td>0.319018</td>\n",
       "      <td>0.269939</td>\n",
       "      <td>...</td>\n",
       "      <td>0.067485</td>\n",
       "      <td>0.619632</td>\n",
       "      <td>0.300613</td>\n",
       "      <td>0.01227</td>\n",
       "      <td>0.0</td>\n",
       "      <td>0.0</td>\n",
       "      <td>0.0</td>\n",
       "      <td>0.0</td>\n",
       "      <td>0.0</td>\n",
       "      <td>0.0</td>\n",
       "    </tr>\n",
       "    <tr>\n",
       "      <th>3</th>\n",
       "      <td>True</td>\n",
       "      <td>5PQVTWULAC</td>\n",
       "      <td>880.261337</td>\n",
       "      <td>18173.314440</td>\n",
       "      <td>125.230868</td>\n",
       "      <td>280.499562</td>\n",
       "      <td>0.051140</td>\n",
       "      <td>0.268141</td>\n",
       "      <td>0.306381</td>\n",
       "      <td>0.181755</td>\n",
       "      <td>...</td>\n",
       "      <td>0.148353</td>\n",
       "      <td>0.845658</td>\n",
       "      <td>0.005989</td>\n",
       "      <td>0.00000</td>\n",
       "      <td>0.0</td>\n",
       "      <td>0.0</td>\n",
       "      <td>0.0</td>\n",
       "      <td>0.0</td>\n",
       "      <td>0.0</td>\n",
       "      <td>0.0</td>\n",
       "    </tr>\n",
       "    <tr>\n",
       "      <th>4</th>\n",
       "      <td>True</td>\n",
       "      <td>4GUYFBZMK9</td>\n",
       "      <td>177.360998</td>\n",
       "      <td>7682.957938</td>\n",
       "      <td>70.229277</td>\n",
       "      <td>153.107970</td>\n",
       "      <td>0.290648</td>\n",
       "      <td>0.477152</td>\n",
       "      <td>0.159405</td>\n",
       "      <td>0.051010</td>\n",
       "      <td>...</td>\n",
       "      <td>1.000000</td>\n",
       "      <td>0.000000</td>\n",
       "      <td>0.000000</td>\n",
       "      <td>0.00000</td>\n",
       "      <td>0.0</td>\n",
       "      <td>0.0</td>\n",
       "      <td>0.0</td>\n",
       "      <td>0.0</td>\n",
       "      <td>0.0</td>\n",
       "      <td>0.0</td>\n",
       "    </tr>\n",
       "  </tbody>\n",
       "</table>\n",
       "<p>5 rows × 26 columns</p>\n",
       "</div>"
      ],
      "text/plain": [
       "   Parkinson     UserKey        HTVar         FTVar      HTmean      FTmean  \\\n",
       "0       True  ZCPALNB4ZM  1159.336994  22251.264781  124.658260  418.255523   \n",
       "1      False  IDYIDJBAXF   516.962542   4191.480253   98.701331  124.694140   \n",
       "2       True  RYQGAPGNAM  2888.547405  16863.756301  175.307975  346.656442   \n",
       "3       True  5PQVTWULAC   880.261337  18173.314440  125.230868  280.499562   \n",
       "4       True  4GUYFBZMK9   177.360998   7682.957938   70.229277  153.107970   \n",
       "\n",
       "     FTbin1    FTbin2    FTbin3    FTbin4   ...       HTbin1    HTbin2  \\\n",
       "0  0.012708  0.076246  0.143695  0.190616   ...     0.234604  0.740958   \n",
       "1  0.384938  0.485074  0.122017  0.007970   ...     0.557256  0.442744   \n",
       "2  0.000000  0.092025  0.319018  0.269939   ...     0.067485  0.619632   \n",
       "3  0.051140  0.268141  0.306381  0.181755   ...     0.148353  0.845658   \n",
       "4  0.290648  0.477152  0.159405  0.051010   ...     1.000000  0.000000   \n",
       "\n",
       "     HTbin3   HTbin4  HTbin5  HTbin6  HTbin7  HTbin8  HTbin9  HTbin10  \n",
       "0  0.024438  0.00000     0.0     0.0     0.0     0.0     0.0      0.0  \n",
       "1  0.000000  0.00000     0.0     0.0     0.0     0.0     0.0      0.0  \n",
       "2  0.300613  0.01227     0.0     0.0     0.0     0.0     0.0      0.0  \n",
       "3  0.005989  0.00000     0.0     0.0     0.0     0.0     0.0      0.0  \n",
       "4  0.000000  0.00000     0.0     0.0     0.0     0.0     0.0      0.0  \n",
       "\n",
       "[5 rows x 26 columns]"
      ]
     },
     "execution_count": 205,
     "metadata": {},
     "output_type": "execute_result"
    },
    {
     "data": {
      "text/html": [
       "<div>\n",
       "<style scoped>\n",
       "    .dataframe tbody tr th:only-of-type {\n",
       "        vertical-align: middle;\n",
       "    }\n",
       "\n",
       "    .dataframe tbody tr th {\n",
       "        vertical-align: top;\n",
       "    }\n",
       "\n",
       "    .dataframe thead th {\n",
       "        text-align: right;\n",
       "    }\n",
       "</style>\n",
       "<table border=\"1\" class=\"dataframe\">\n",
       "  <thead>\n",
       "    <tr style=\"text-align: right;\">\n",
       "      <th></th>\n",
       "      <th>Parkinson</th>\n",
       "      <th>UserKey</th>\n",
       "      <th>HTVar</th>\n",
       "      <th>FTVar</th>\n",
       "      <th>HTmean</th>\n",
       "      <th>FTmean</th>\n",
       "      <th>FTbin1</th>\n",
       "      <th>FTbin2</th>\n",
       "      <th>FTbin3</th>\n",
       "      <th>FTbin4</th>\n",
       "      <th>...</th>\n",
       "      <th>HTbin1</th>\n",
       "      <th>HTbin2</th>\n",
       "      <th>HTbin3</th>\n",
       "      <th>HTbin4</th>\n",
       "      <th>HTbin5</th>\n",
       "      <th>HTbin6</th>\n",
       "      <th>HTbin7</th>\n",
       "      <th>HTbin8</th>\n",
       "      <th>HTbin9</th>\n",
       "      <th>HTbin10</th>\n",
       "    </tr>\n",
       "  </thead>\n",
       "  <tbody>\n",
       "    <tr>\n",
       "      <th>0</th>\n",
       "      <td>0.0</td>\n",
       "      <td>76</td>\n",
       "      <td>1161.788344</td>\n",
       "      <td>3275.284760</td>\n",
       "      <td>122.496815</td>\n",
       "      <td>76.366860</td>\n",
       "      <td>0.727823</td>\n",
       "      <td>0.225849</td>\n",
       "      <td>0.046328</td>\n",
       "      <td>0.000000</td>\n",
       "      <td>...</td>\n",
       "      <td>0.294025</td>\n",
       "      <td>0.685444</td>\n",
       "      <td>0.020532</td>\n",
       "      <td>0.000000</td>\n",
       "      <td>0.0</td>\n",
       "      <td>0.0</td>\n",
       "      <td>0.0</td>\n",
       "      <td>0.0</td>\n",
       "      <td>0.0</td>\n",
       "      <td>0.0</td>\n",
       "    </tr>\n",
       "    <tr>\n",
       "      <th>1</th>\n",
       "      <td>1.0</td>\n",
       "      <td>84</td>\n",
       "      <td>626.996339</td>\n",
       "      <td>16552.446605</td>\n",
       "      <td>74.630264</td>\n",
       "      <td>174.673974</td>\n",
       "      <td>0.299453</td>\n",
       "      <td>0.395624</td>\n",
       "      <td>0.170465</td>\n",
       "      <td>0.065178</td>\n",
       "      <td>...</td>\n",
       "      <td>0.788514</td>\n",
       "      <td>0.211486</td>\n",
       "      <td>0.000000</td>\n",
       "      <td>0.000000</td>\n",
       "      <td>0.0</td>\n",
       "      <td>0.0</td>\n",
       "      <td>0.0</td>\n",
       "      <td>0.0</td>\n",
       "      <td>0.0</td>\n",
       "      <td>0.0</td>\n",
       "    </tr>\n",
       "    <tr>\n",
       "      <th>2</th>\n",
       "      <td>0.0</td>\n",
       "      <td>79</td>\n",
       "      <td>1070.860539</td>\n",
       "      <td>38073.472187</td>\n",
       "      <td>106.890982</td>\n",
       "      <td>304.552043</td>\n",
       "      <td>0.085486</td>\n",
       "      <td>0.287459</td>\n",
       "      <td>0.205730</td>\n",
       "      <td>0.167684</td>\n",
       "      <td>...</td>\n",
       "      <td>0.544857</td>\n",
       "      <td>0.455143</td>\n",
       "      <td>0.000000</td>\n",
       "      <td>0.000000</td>\n",
       "      <td>0.0</td>\n",
       "      <td>0.0</td>\n",
       "      <td>0.0</td>\n",
       "      <td>0.0</td>\n",
       "      <td>0.0</td>\n",
       "      <td>0.0</td>\n",
       "    </tr>\n",
       "    <tr>\n",
       "      <th>3</th>\n",
       "      <td>1.0</td>\n",
       "      <td>80</td>\n",
       "      <td>1869.010738</td>\n",
       "      <td>96908.776906</td>\n",
       "      <td>160.566270</td>\n",
       "      <td>467.000432</td>\n",
       "      <td>0.029189</td>\n",
       "      <td>0.122162</td>\n",
       "      <td>0.207568</td>\n",
       "      <td>0.188108</td>\n",
       "      <td>...</td>\n",
       "      <td>0.054595</td>\n",
       "      <td>0.755135</td>\n",
       "      <td>0.190270</td>\n",
       "      <td>0.000000</td>\n",
       "      <td>0.0</td>\n",
       "      <td>0.0</td>\n",
       "      <td>0.0</td>\n",
       "      <td>0.0</td>\n",
       "      <td>0.0</td>\n",
       "      <td>0.0</td>\n",
       "    </tr>\n",
       "    <tr>\n",
       "      <th>4</th>\n",
       "      <td>1.0</td>\n",
       "      <td>72</td>\n",
       "      <td>4215.091124</td>\n",
       "      <td>143183.922577</td>\n",
       "      <td>169.471637</td>\n",
       "      <td>490.094528</td>\n",
       "      <td>0.086847</td>\n",
       "      <td>0.196787</td>\n",
       "      <td>0.149096</td>\n",
       "      <td>0.086345</td>\n",
       "      <td>...</td>\n",
       "      <td>0.103916</td>\n",
       "      <td>0.620984</td>\n",
       "      <td>0.226908</td>\n",
       "      <td>0.048193</td>\n",
       "      <td>0.0</td>\n",
       "      <td>0.0</td>\n",
       "      <td>0.0</td>\n",
       "      <td>0.0</td>\n",
       "      <td>0.0</td>\n",
       "      <td>0.0</td>\n",
       "    </tr>\n",
       "  </tbody>\n",
       "</table>\n",
       "<p>5 rows × 26 columns</p>\n",
       "</div>"
      ],
      "text/plain": [
       "   Parkinson  UserKey        HTVar          FTVar      HTmean      FTmean  \\\n",
       "0        0.0       76  1161.788344    3275.284760  122.496815   76.366860   \n",
       "1        1.0       84   626.996339   16552.446605   74.630264  174.673974   \n",
       "2        0.0       79  1070.860539   38073.472187  106.890982  304.552043   \n",
       "3        1.0       80  1869.010738   96908.776906  160.566270  467.000432   \n",
       "4        1.0       72  4215.091124  143183.922577  169.471637  490.094528   \n",
       "\n",
       "     FTbin1    FTbin2    FTbin3    FTbin4   ...       HTbin1    HTbin2  \\\n",
       "0  0.727823  0.225849  0.046328  0.000000   ...     0.294025  0.685444   \n",
       "1  0.299453  0.395624  0.170465  0.065178   ...     0.788514  0.211486   \n",
       "2  0.085486  0.287459  0.205730  0.167684   ...     0.544857  0.455143   \n",
       "3  0.029189  0.122162  0.207568  0.188108   ...     0.054595  0.755135   \n",
       "4  0.086847  0.196787  0.149096  0.086345   ...     0.103916  0.620984   \n",
       "\n",
       "     HTbin3    HTbin4  HTbin5  HTbin6  HTbin7  HTbin8  HTbin9  HTbin10  \n",
       "0  0.020532  0.000000     0.0     0.0     0.0     0.0     0.0      0.0  \n",
       "1  0.000000  0.000000     0.0     0.0     0.0     0.0     0.0      0.0  \n",
       "2  0.000000  0.000000     0.0     0.0     0.0     0.0     0.0      0.0  \n",
       "3  0.190270  0.000000     0.0     0.0     0.0     0.0     0.0      0.0  \n",
       "4  0.226908  0.048193     0.0     0.0     0.0     0.0     0.0      0.0  \n",
       "\n",
       "[5 rows x 26 columns]"
      ]
     },
     "execution_count": 205,
     "metadata": {},
     "output_type": "execute_result"
    }
   ],
   "source": [
    "tpdf.head()\n",
    "nqdf.head()"
   ]
  },
  {
   "cell_type": "markdown",
   "metadata": {},
   "source": [
    "# Checking for null and invalid data"
   ]
  },
  {
   "cell_type": "code",
   "execution_count": 206,
   "metadata": {
    "scrolled": true
   },
   "outputs": [],
   "source": [
    "# tpdf.isnull().sum() # this will check for null and FTVar and HTVar were identified to contain null.\n",
    "# tpdf[tpdf.HTVar.isnull()]"
   ]
  },
  {
   "cell_type": "code",
   "execution_count": 207,
   "metadata": {},
   "outputs": [],
   "source": [
    "# remove 'XQIXWF0BXG' as user only has 1 record\n",
    "dropXQ = tpdf.UserKey != 'XQIXWF0BXG'\n",
    "tpdf = tpdf[dropXQ]\n",
    "# tpdf.iloc[199:203, :] # Verified"
   ]
  },
  {
   "cell_type": "code",
   "execution_count": 208,
   "metadata": {},
   "outputs": [
    {
     "data": {
      "text/html": [
       "<div>\n",
       "<style scoped>\n",
       "    .dataframe tbody tr th:only-of-type {\n",
       "        vertical-align: middle;\n",
       "    }\n",
       "\n",
       "    .dataframe tbody tr th {\n",
       "        vertical-align: top;\n",
       "    }\n",
       "\n",
       "    .dataframe thead th {\n",
       "        text-align: right;\n",
       "    }\n",
       "</style>\n",
       "<table border=\"1\" class=\"dataframe\">\n",
       "  <thead>\n",
       "    <tr style=\"text-align: right;\">\n",
       "      <th></th>\n",
       "      <th>Parkinson</th>\n",
       "      <th>UserKey</th>\n",
       "      <th>HTVar</th>\n",
       "      <th>FTVar</th>\n",
       "      <th>HTmean</th>\n",
       "      <th>FTmean</th>\n",
       "      <th>FTbin1</th>\n",
       "      <th>FTbin2</th>\n",
       "      <th>FTbin3</th>\n",
       "      <th>FTbin4</th>\n",
       "      <th>...</th>\n",
       "      <th>HTbin1</th>\n",
       "      <th>HTbin2</th>\n",
       "      <th>HTbin3</th>\n",
       "      <th>HTbin4</th>\n",
       "      <th>HTbin5</th>\n",
       "      <th>HTbin6</th>\n",
       "      <th>HTbin7</th>\n",
       "      <th>HTbin8</th>\n",
       "      <th>HTbin9</th>\n",
       "      <th>HTbin10</th>\n",
       "    </tr>\n",
       "  </thead>\n",
       "  <tbody>\n",
       "    <tr>\n",
       "      <th>96</th>\n",
       "      <td>True</td>\n",
       "      <td>M0PBVLISCF</td>\n",
       "      <td>276.125</td>\n",
       "      <td>0.0</td>\n",
       "      <td>35.15</td>\n",
       "      <td>23.4</td>\n",
       "      <td>1.0</td>\n",
       "      <td>0.0</td>\n",
       "      <td>0.0</td>\n",
       "      <td>0.0</td>\n",
       "      <td>...</td>\n",
       "      <td>1.0</td>\n",
       "      <td>0.0</td>\n",
       "      <td>0.0</td>\n",
       "      <td>0.0</td>\n",
       "      <td>0.0</td>\n",
       "      <td>0.0</td>\n",
       "      <td>0.0</td>\n",
       "      <td>0.0</td>\n",
       "      <td>0.0</td>\n",
       "      <td>0.0</td>\n",
       "    </tr>\n",
       "  </tbody>\n",
       "</table>\n",
       "<p>1 rows × 26 columns</p>\n",
       "</div>"
      ],
      "text/plain": [
       "    Parkinson     UserKey    HTVar  FTVar  HTmean  FTmean  FTbin1  FTbin2  \\\n",
       "96       True  M0PBVLISCF  276.125    0.0   35.15    23.4     1.0     0.0   \n",
       "\n",
       "    FTbin3  FTbin4   ...     HTbin1  HTbin2  HTbin3  HTbin4  HTbin5  HTbin6  \\\n",
       "96     0.0     0.0   ...        1.0     0.0     0.0     0.0     0.0     0.0   \n",
       "\n",
       "    HTbin7  HTbin8  HTbin9  HTbin10  \n",
       "96     0.0     0.0     0.0      0.0  \n",
       "\n",
       "[1 rows x 26 columns]"
      ]
     },
     "execution_count": 208,
     "metadata": {},
     "output_type": "execute_result"
    },
    {
     "data": {
      "text/html": [
       "<div>\n",
       "<style scoped>\n",
       "    .dataframe tbody tr th:only-of-type {\n",
       "        vertical-align: middle;\n",
       "    }\n",
       "\n",
       "    .dataframe tbody tr th {\n",
       "        vertical-align: top;\n",
       "    }\n",
       "\n",
       "    .dataframe thead th {\n",
       "        text-align: right;\n",
       "    }\n",
       "</style>\n",
       "<table border=\"1\" class=\"dataframe\">\n",
       "  <thead>\n",
       "    <tr style=\"text-align: right;\">\n",
       "      <th></th>\n",
       "      <th>Parkinson</th>\n",
       "      <th>UserKey</th>\n",
       "      <th>HTVar</th>\n",
       "      <th>FTVar</th>\n",
       "      <th>HTmean</th>\n",
       "      <th>FTmean</th>\n",
       "      <th>FTbin1</th>\n",
       "      <th>FTbin2</th>\n",
       "      <th>FTbin3</th>\n",
       "      <th>FTbin4</th>\n",
       "      <th>...</th>\n",
       "      <th>HTbin1</th>\n",
       "      <th>HTbin2</th>\n",
       "      <th>HTbin3</th>\n",
       "      <th>HTbin4</th>\n",
       "      <th>HTbin5</th>\n",
       "      <th>HTbin6</th>\n",
       "      <th>HTbin7</th>\n",
       "      <th>HTbin8</th>\n",
       "      <th>HTbin9</th>\n",
       "      <th>HTbin10</th>\n",
       "    </tr>\n",
       "  </thead>\n",
       "  <tbody>\n",
       "  </tbody>\n",
       "</table>\n",
       "<p>0 rows × 26 columns</p>\n",
       "</div>"
      ],
      "text/plain": [
       "Empty DataFrame\n",
       "Columns: [Parkinson, UserKey, HTVar, FTVar, HTmean, FTmean, FTbin1, FTbin2, FTbin3, FTbin4, FTbin5, FTbin6, FTbin7, FTbin8, FTbin9, FTbin10, HTbin1, HTbin2, HTbin3, HTbin4, HTbin5, HTbin6, HTbin7, HTbin8, HTbin9, HTbin10]\n",
       "Index: []\n",
       "\n",
       "[0 rows x 26 columns]"
      ]
     },
     "execution_count": 208,
     "metadata": {},
     "output_type": "execute_result"
    }
   ],
   "source": [
    "tpdf[tpdf.FTVar ==0]\n",
    "tpdf[tpdf.HTVar ==0]"
   ]
  },
  {
   "cell_type": "code",
   "execution_count": 209,
   "metadata": {},
   "outputs": [],
   "source": [
    "# remove user 'M0PBVLISCF' since only has 2 records of keystroke data\n",
    "dropM0 = tpdf.UserKey != 'M0PBVLISCF'\n",
    "tpdf = tpdf[dropM0]\n",
    "# tpdf.iloc[90:100, :] #Verified"
   ]
  },
  {
   "cell_type": "markdown",
   "metadata": {},
   "source": [
    "Transform label 'Parkinson' column to use 0 and 1"
   ]
  },
  {
   "cell_type": "code",
   "execution_count": 210,
   "metadata": {},
   "outputs": [],
   "source": [
    "# some preprocessing for Parkinson\n",
    "from sklearn.preprocessing import LabelEncoder\n",
    "LEncoder = LabelEncoder()\n",
    "tpdf['Parkinson'] = LEncoder.fit_transform(tpdf['Parkinson'])\n",
    "nqdf['Parkinson'] = LEncoder.fit_transform(nqdf['Parkinson'])"
   ]
  },
  {
   "cell_type": "code",
   "execution_count": 211,
   "metadata": {},
   "outputs": [
    {
     "data": {
      "text/html": [
       "<div>\n",
       "<style scoped>\n",
       "    .dataframe tbody tr th:only-of-type {\n",
       "        vertical-align: middle;\n",
       "    }\n",
       "\n",
       "    .dataframe tbody tr th {\n",
       "        vertical-align: top;\n",
       "    }\n",
       "\n",
       "    .dataframe thead th {\n",
       "        text-align: right;\n",
       "    }\n",
       "</style>\n",
       "<table border=\"1\" class=\"dataframe\">\n",
       "  <thead>\n",
       "    <tr style=\"text-align: right;\">\n",
       "      <th></th>\n",
       "      <th>Parkinson</th>\n",
       "      <th>UserKey</th>\n",
       "      <th>HTVar</th>\n",
       "      <th>FTVar</th>\n",
       "      <th>HTmean</th>\n",
       "      <th>FTmean</th>\n",
       "      <th>FTbin1</th>\n",
       "      <th>FTbin2</th>\n",
       "      <th>FTbin3</th>\n",
       "      <th>FTbin4</th>\n",
       "      <th>...</th>\n",
       "      <th>HTbin1</th>\n",
       "      <th>HTbin2</th>\n",
       "      <th>HTbin3</th>\n",
       "      <th>HTbin4</th>\n",
       "      <th>HTbin5</th>\n",
       "      <th>HTbin6</th>\n",
       "      <th>HTbin7</th>\n",
       "      <th>HTbin8</th>\n",
       "      <th>HTbin9</th>\n",
       "      <th>HTbin10</th>\n",
       "    </tr>\n",
       "  </thead>\n",
       "  <tbody>\n",
       "    <tr>\n",
       "      <th>0</th>\n",
       "      <td>1</td>\n",
       "      <td>ZCPALNB4ZM</td>\n",
       "      <td>1159.336994</td>\n",
       "      <td>22251.264781</td>\n",
       "      <td>124.658260</td>\n",
       "      <td>418.255523</td>\n",
       "      <td>0.012708</td>\n",
       "      <td>0.076246</td>\n",
       "      <td>0.143695</td>\n",
       "      <td>0.190616</td>\n",
       "      <td>...</td>\n",
       "      <td>0.234604</td>\n",
       "      <td>0.740958</td>\n",
       "      <td>0.024438</td>\n",
       "      <td>0.00000</td>\n",
       "      <td>0.0</td>\n",
       "      <td>0.0</td>\n",
       "      <td>0.0</td>\n",
       "      <td>0.0</td>\n",
       "      <td>0.0</td>\n",
       "      <td>0.0</td>\n",
       "    </tr>\n",
       "    <tr>\n",
       "      <th>1</th>\n",
       "      <td>0</td>\n",
       "      <td>IDYIDJBAXF</td>\n",
       "      <td>516.962542</td>\n",
       "      <td>4191.480253</td>\n",
       "      <td>98.701331</td>\n",
       "      <td>124.694140</td>\n",
       "      <td>0.384938</td>\n",
       "      <td>0.485074</td>\n",
       "      <td>0.122017</td>\n",
       "      <td>0.007970</td>\n",
       "      <td>...</td>\n",
       "      <td>0.557256</td>\n",
       "      <td>0.442744</td>\n",
       "      <td>0.000000</td>\n",
       "      <td>0.00000</td>\n",
       "      <td>0.0</td>\n",
       "      <td>0.0</td>\n",
       "      <td>0.0</td>\n",
       "      <td>0.0</td>\n",
       "      <td>0.0</td>\n",
       "      <td>0.0</td>\n",
       "    </tr>\n",
       "    <tr>\n",
       "      <th>2</th>\n",
       "      <td>1</td>\n",
       "      <td>RYQGAPGNAM</td>\n",
       "      <td>2888.547405</td>\n",
       "      <td>16863.756301</td>\n",
       "      <td>175.307975</td>\n",
       "      <td>346.656442</td>\n",
       "      <td>0.000000</td>\n",
       "      <td>0.092025</td>\n",
       "      <td>0.319018</td>\n",
       "      <td>0.269939</td>\n",
       "      <td>...</td>\n",
       "      <td>0.067485</td>\n",
       "      <td>0.619632</td>\n",
       "      <td>0.300613</td>\n",
       "      <td>0.01227</td>\n",
       "      <td>0.0</td>\n",
       "      <td>0.0</td>\n",
       "      <td>0.0</td>\n",
       "      <td>0.0</td>\n",
       "      <td>0.0</td>\n",
       "      <td>0.0</td>\n",
       "    </tr>\n",
       "    <tr>\n",
       "      <th>3</th>\n",
       "      <td>1</td>\n",
       "      <td>5PQVTWULAC</td>\n",
       "      <td>880.261337</td>\n",
       "      <td>18173.314440</td>\n",
       "      <td>125.230868</td>\n",
       "      <td>280.499562</td>\n",
       "      <td>0.051140</td>\n",
       "      <td>0.268141</td>\n",
       "      <td>0.306381</td>\n",
       "      <td>0.181755</td>\n",
       "      <td>...</td>\n",
       "      <td>0.148353</td>\n",
       "      <td>0.845658</td>\n",
       "      <td>0.005989</td>\n",
       "      <td>0.00000</td>\n",
       "      <td>0.0</td>\n",
       "      <td>0.0</td>\n",
       "      <td>0.0</td>\n",
       "      <td>0.0</td>\n",
       "      <td>0.0</td>\n",
       "      <td>0.0</td>\n",
       "    </tr>\n",
       "    <tr>\n",
       "      <th>4</th>\n",
       "      <td>1</td>\n",
       "      <td>4GUYFBZMK9</td>\n",
       "      <td>177.360998</td>\n",
       "      <td>7682.957938</td>\n",
       "      <td>70.229277</td>\n",
       "      <td>153.107970</td>\n",
       "      <td>0.290648</td>\n",
       "      <td>0.477152</td>\n",
       "      <td>0.159405</td>\n",
       "      <td>0.051010</td>\n",
       "      <td>...</td>\n",
       "      <td>1.000000</td>\n",
       "      <td>0.000000</td>\n",
       "      <td>0.000000</td>\n",
       "      <td>0.00000</td>\n",
       "      <td>0.0</td>\n",
       "      <td>0.0</td>\n",
       "      <td>0.0</td>\n",
       "      <td>0.0</td>\n",
       "      <td>0.0</td>\n",
       "      <td>0.0</td>\n",
       "    </tr>\n",
       "  </tbody>\n",
       "</table>\n",
       "<p>5 rows × 26 columns</p>\n",
       "</div>"
      ],
      "text/plain": [
       "   Parkinson     UserKey        HTVar         FTVar      HTmean      FTmean  \\\n",
       "0          1  ZCPALNB4ZM  1159.336994  22251.264781  124.658260  418.255523   \n",
       "1          0  IDYIDJBAXF   516.962542   4191.480253   98.701331  124.694140   \n",
       "2          1  RYQGAPGNAM  2888.547405  16863.756301  175.307975  346.656442   \n",
       "3          1  5PQVTWULAC   880.261337  18173.314440  125.230868  280.499562   \n",
       "4          1  4GUYFBZMK9   177.360998   7682.957938   70.229277  153.107970   \n",
       "\n",
       "     FTbin1    FTbin2    FTbin3    FTbin4   ...       HTbin1    HTbin2  \\\n",
       "0  0.012708  0.076246  0.143695  0.190616   ...     0.234604  0.740958   \n",
       "1  0.384938  0.485074  0.122017  0.007970   ...     0.557256  0.442744   \n",
       "2  0.000000  0.092025  0.319018  0.269939   ...     0.067485  0.619632   \n",
       "3  0.051140  0.268141  0.306381  0.181755   ...     0.148353  0.845658   \n",
       "4  0.290648  0.477152  0.159405  0.051010   ...     1.000000  0.000000   \n",
       "\n",
       "     HTbin3   HTbin4  HTbin5  HTbin6  HTbin7  HTbin8  HTbin9  HTbin10  \n",
       "0  0.024438  0.00000     0.0     0.0     0.0     0.0     0.0      0.0  \n",
       "1  0.000000  0.00000     0.0     0.0     0.0     0.0     0.0      0.0  \n",
       "2  0.300613  0.01227     0.0     0.0     0.0     0.0     0.0      0.0  \n",
       "3  0.005989  0.00000     0.0     0.0     0.0     0.0     0.0      0.0  \n",
       "4  0.000000  0.00000     0.0     0.0     0.0     0.0     0.0      0.0  \n",
       "\n",
       "[5 rows x 26 columns]"
      ]
     },
     "execution_count": 211,
     "metadata": {},
     "output_type": "execute_result"
    },
    {
     "data": {
      "text/html": [
       "<div>\n",
       "<style scoped>\n",
       "    .dataframe tbody tr th:only-of-type {\n",
       "        vertical-align: middle;\n",
       "    }\n",
       "\n",
       "    .dataframe tbody tr th {\n",
       "        vertical-align: top;\n",
       "    }\n",
       "\n",
       "    .dataframe thead th {\n",
       "        text-align: right;\n",
       "    }\n",
       "</style>\n",
       "<table border=\"1\" class=\"dataframe\">\n",
       "  <thead>\n",
       "    <tr style=\"text-align: right;\">\n",
       "      <th></th>\n",
       "      <th>Parkinson</th>\n",
       "      <th>UserKey</th>\n",
       "      <th>HTVar</th>\n",
       "      <th>FTVar</th>\n",
       "      <th>HTmean</th>\n",
       "      <th>FTmean</th>\n",
       "      <th>FTbin1</th>\n",
       "      <th>FTbin2</th>\n",
       "      <th>FTbin3</th>\n",
       "      <th>FTbin4</th>\n",
       "      <th>...</th>\n",
       "      <th>HTbin1</th>\n",
       "      <th>HTbin2</th>\n",
       "      <th>HTbin3</th>\n",
       "      <th>HTbin4</th>\n",
       "      <th>HTbin5</th>\n",
       "      <th>HTbin6</th>\n",
       "      <th>HTbin7</th>\n",
       "      <th>HTbin8</th>\n",
       "      <th>HTbin9</th>\n",
       "      <th>HTbin10</th>\n",
       "    </tr>\n",
       "  </thead>\n",
       "  <tbody>\n",
       "    <tr>\n",
       "      <th>0</th>\n",
       "      <td>0</td>\n",
       "      <td>76</td>\n",
       "      <td>1161.788344</td>\n",
       "      <td>3275.284760</td>\n",
       "      <td>122.496815</td>\n",
       "      <td>76.366860</td>\n",
       "      <td>0.727823</td>\n",
       "      <td>0.225849</td>\n",
       "      <td>0.046328</td>\n",
       "      <td>0.000000</td>\n",
       "      <td>...</td>\n",
       "      <td>0.294025</td>\n",
       "      <td>0.685444</td>\n",
       "      <td>0.020532</td>\n",
       "      <td>0.000000</td>\n",
       "      <td>0.0</td>\n",
       "      <td>0.0</td>\n",
       "      <td>0.0</td>\n",
       "      <td>0.0</td>\n",
       "      <td>0.0</td>\n",
       "      <td>0.0</td>\n",
       "    </tr>\n",
       "    <tr>\n",
       "      <th>1</th>\n",
       "      <td>1</td>\n",
       "      <td>84</td>\n",
       "      <td>626.996339</td>\n",
       "      <td>16552.446605</td>\n",
       "      <td>74.630264</td>\n",
       "      <td>174.673974</td>\n",
       "      <td>0.299453</td>\n",
       "      <td>0.395624</td>\n",
       "      <td>0.170465</td>\n",
       "      <td>0.065178</td>\n",
       "      <td>...</td>\n",
       "      <td>0.788514</td>\n",
       "      <td>0.211486</td>\n",
       "      <td>0.000000</td>\n",
       "      <td>0.000000</td>\n",
       "      <td>0.0</td>\n",
       "      <td>0.0</td>\n",
       "      <td>0.0</td>\n",
       "      <td>0.0</td>\n",
       "      <td>0.0</td>\n",
       "      <td>0.0</td>\n",
       "    </tr>\n",
       "    <tr>\n",
       "      <th>2</th>\n",
       "      <td>0</td>\n",
       "      <td>79</td>\n",
       "      <td>1070.860539</td>\n",
       "      <td>38073.472187</td>\n",
       "      <td>106.890982</td>\n",
       "      <td>304.552043</td>\n",
       "      <td>0.085486</td>\n",
       "      <td>0.287459</td>\n",
       "      <td>0.205730</td>\n",
       "      <td>0.167684</td>\n",
       "      <td>...</td>\n",
       "      <td>0.544857</td>\n",
       "      <td>0.455143</td>\n",
       "      <td>0.000000</td>\n",
       "      <td>0.000000</td>\n",
       "      <td>0.0</td>\n",
       "      <td>0.0</td>\n",
       "      <td>0.0</td>\n",
       "      <td>0.0</td>\n",
       "      <td>0.0</td>\n",
       "      <td>0.0</td>\n",
       "    </tr>\n",
       "    <tr>\n",
       "      <th>3</th>\n",
       "      <td>1</td>\n",
       "      <td>80</td>\n",
       "      <td>1869.010738</td>\n",
       "      <td>96908.776906</td>\n",
       "      <td>160.566270</td>\n",
       "      <td>467.000432</td>\n",
       "      <td>0.029189</td>\n",
       "      <td>0.122162</td>\n",
       "      <td>0.207568</td>\n",
       "      <td>0.188108</td>\n",
       "      <td>...</td>\n",
       "      <td>0.054595</td>\n",
       "      <td>0.755135</td>\n",
       "      <td>0.190270</td>\n",
       "      <td>0.000000</td>\n",
       "      <td>0.0</td>\n",
       "      <td>0.0</td>\n",
       "      <td>0.0</td>\n",
       "      <td>0.0</td>\n",
       "      <td>0.0</td>\n",
       "      <td>0.0</td>\n",
       "    </tr>\n",
       "    <tr>\n",
       "      <th>4</th>\n",
       "      <td>1</td>\n",
       "      <td>72</td>\n",
       "      <td>4215.091124</td>\n",
       "      <td>143183.922577</td>\n",
       "      <td>169.471637</td>\n",
       "      <td>490.094528</td>\n",
       "      <td>0.086847</td>\n",
       "      <td>0.196787</td>\n",
       "      <td>0.149096</td>\n",
       "      <td>0.086345</td>\n",
       "      <td>...</td>\n",
       "      <td>0.103916</td>\n",
       "      <td>0.620984</td>\n",
       "      <td>0.226908</td>\n",
       "      <td>0.048193</td>\n",
       "      <td>0.0</td>\n",
       "      <td>0.0</td>\n",
       "      <td>0.0</td>\n",
       "      <td>0.0</td>\n",
       "      <td>0.0</td>\n",
       "      <td>0.0</td>\n",
       "    </tr>\n",
       "  </tbody>\n",
       "</table>\n",
       "<p>5 rows × 26 columns</p>\n",
       "</div>"
      ],
      "text/plain": [
       "   Parkinson  UserKey        HTVar          FTVar      HTmean      FTmean  \\\n",
       "0          0       76  1161.788344    3275.284760  122.496815   76.366860   \n",
       "1          1       84   626.996339   16552.446605   74.630264  174.673974   \n",
       "2          0       79  1070.860539   38073.472187  106.890982  304.552043   \n",
       "3          1       80  1869.010738   96908.776906  160.566270  467.000432   \n",
       "4          1       72  4215.091124  143183.922577  169.471637  490.094528   \n",
       "\n",
       "     FTbin1    FTbin2    FTbin3    FTbin4   ...       HTbin1    HTbin2  \\\n",
       "0  0.727823  0.225849  0.046328  0.000000   ...     0.294025  0.685444   \n",
       "1  0.299453  0.395624  0.170465  0.065178   ...     0.788514  0.211486   \n",
       "2  0.085486  0.287459  0.205730  0.167684   ...     0.544857  0.455143   \n",
       "3  0.029189  0.122162  0.207568  0.188108   ...     0.054595  0.755135   \n",
       "4  0.086847  0.196787  0.149096  0.086345   ...     0.103916  0.620984   \n",
       "\n",
       "     HTbin3    HTbin4  HTbin5  HTbin6  HTbin7  HTbin8  HTbin9  HTbin10  \n",
       "0  0.020532  0.000000     0.0     0.0     0.0     0.0     0.0      0.0  \n",
       "1  0.000000  0.000000     0.0     0.0     0.0     0.0     0.0      0.0  \n",
       "2  0.000000  0.000000     0.0     0.0     0.0     0.0     0.0      0.0  \n",
       "3  0.190270  0.000000     0.0     0.0     0.0     0.0     0.0      0.0  \n",
       "4  0.226908  0.048193     0.0     0.0     0.0     0.0     0.0      0.0  \n",
       "\n",
       "[5 rows x 26 columns]"
      ]
     },
     "execution_count": 211,
     "metadata": {},
     "output_type": "execute_result"
    }
   ],
   "source": [
    "tpdf.head()\n",
    "nqdf.head()"
   ]
  },
  {
   "cell_type": "code",
   "execution_count": 212,
   "metadata": {},
   "outputs": [],
   "source": [
    "# nqdf[nqdf.FTVar ==0]"
   ]
  },
  {
   "cell_type": "code",
   "execution_count": 213,
   "metadata": {},
   "outputs": [
    {
     "name": "stdout",
     "output_type": "stream",
     "text": [
      "<class 'pandas.core.frame.DataFrame'>\n",
      "Int64Index: 300 entries, 0 to 84\n",
      "Data columns (total 26 columns):\n",
      "Parkinson    300 non-null int64\n",
      "UserKey      300 non-null object\n",
      "HTVar        300 non-null float64\n",
      "FTVar        300 non-null float64\n",
      "HTmean       300 non-null float64\n",
      "FTmean       300 non-null float64\n",
      "FTbin1       300 non-null float64\n",
      "FTbin2       300 non-null float64\n",
      "FTbin3       300 non-null float64\n",
      "FTbin4       300 non-null float64\n",
      "FTbin5       300 non-null float64\n",
      "FTbin6       300 non-null float64\n",
      "FTbin7       300 non-null float64\n",
      "FTbin8       300 non-null float64\n",
      "FTbin9       300 non-null float64\n",
      "FTbin10      300 non-null float64\n",
      "HTbin1       300 non-null float64\n",
      "HTbin2       300 non-null float64\n",
      "HTbin3       300 non-null float64\n",
      "HTbin4       300 non-null float64\n",
      "HTbin5       300 non-null float64\n",
      "HTbin6       300 non-null float64\n",
      "HTbin7       300 non-null float64\n",
      "HTbin8       300 non-null float64\n",
      "HTbin9       300 non-null float64\n",
      "HTbin10      300 non-null float64\n",
      "dtypes: float64(24), int64(1), object(1)\n",
      "memory usage: 63.3+ KB\n"
     ]
    }
   ],
   "source": [
    "# concatenat 2 dfs\n",
    "df = pd.concat([tpdf, nqdf])\n",
    "df.info()"
   ]
  },
  {
   "cell_type": "code",
   "execution_count": 214,
   "metadata": {},
   "outputs": [
    {
     "data": {
      "text/plain": [
       "1    203\n",
       "0     97\n",
       "Name: Parkinson, dtype: int64"
      ]
     },
     "execution_count": 214,
     "metadata": {},
     "output_type": "execute_result"
    }
   ],
   "source": [
    "df['Parkinson'].value_counts()"
   ]
  },
  {
   "cell_type": "code",
   "execution_count": 215,
   "metadata": {},
   "outputs": [
    {
     "name": "stdout",
     "output_type": "stream",
     "text": [
      "<class 'pandas.core.frame.DataFrame'>\n",
      "Int64Index: 300 entries, 0 to 84\n",
      "Data columns (total 25 columns):\n",
      "Parkinson    300 non-null int64\n",
      "HTVar        300 non-null float64\n",
      "FTVar        300 non-null float64\n",
      "HTmean       300 non-null float64\n",
      "FTmean       300 non-null float64\n",
      "FTbin1       300 non-null float64\n",
      "FTbin2       300 non-null float64\n",
      "FTbin3       300 non-null float64\n",
      "FTbin4       300 non-null float64\n",
      "FTbin5       300 non-null float64\n",
      "FTbin6       300 non-null float64\n",
      "FTbin7       300 non-null float64\n",
      "FTbin8       300 non-null float64\n",
      "FTbin9       300 non-null float64\n",
      "FTbin10      300 non-null float64\n",
      "HTbin1       300 non-null float64\n",
      "HTbin2       300 non-null float64\n",
      "HTbin3       300 non-null float64\n",
      "HTbin4       300 non-null float64\n",
      "HTbin5       300 non-null float64\n",
      "HTbin6       300 non-null float64\n",
      "HTbin7       300 non-null float64\n",
      "HTbin8       300 non-null float64\n",
      "HTbin9       300 non-null float64\n",
      "HTbin10      300 non-null float64\n",
      "dtypes: float64(24), int64(1)\n",
      "memory usage: 60.9 KB\n"
     ]
    }
   ],
   "source": [
    "# reset index\n",
    "df.reset_index(drop=True);\n",
    "\n",
    "# save a copy\n",
    "df.to_csv('dfData/withUserCleanDF.csv')\n",
    "del df['UserKey'];\n",
    "df.info();"
   ]
  },
  {
   "cell_type": "code",
   "execution_count": 216,
   "metadata": {},
   "outputs": [
    {
     "data": {
      "text/plain": [
       "array([ 0.])"
      ]
     },
     "execution_count": 216,
     "metadata": {},
     "output_type": "execute_result"
    },
    {
     "data": {
      "text/plain": [
       "array([ 0.])"
      ]
     },
     "execution_count": 216,
     "metadata": {},
     "output_type": "execute_result"
    },
    {
     "data": {
      "text/plain": [
       "array([ 0.])"
      ]
     },
     "execution_count": 216,
     "metadata": {},
     "output_type": "execute_result"
    },
    {
     "data": {
      "text/html": [
       "<div>\n",
       "<style scoped>\n",
       "    .dataframe tbody tr th:only-of-type {\n",
       "        vertical-align: middle;\n",
       "    }\n",
       "\n",
       "    .dataframe tbody tr th {\n",
       "        vertical-align: top;\n",
       "    }\n",
       "\n",
       "    .dataframe thead th {\n",
       "        text-align: right;\n",
       "    }\n",
       "</style>\n",
       "<table border=\"1\" class=\"dataframe\">\n",
       "  <thead>\n",
       "    <tr style=\"text-align: right;\">\n",
       "      <th></th>\n",
       "      <th>Parkinson</th>\n",
       "      <th>HTVar</th>\n",
       "      <th>FTVar</th>\n",
       "      <th>HTmean</th>\n",
       "      <th>FTmean</th>\n",
       "      <th>FTbin1</th>\n",
       "      <th>FTbin2</th>\n",
       "      <th>FTbin3</th>\n",
       "      <th>FTbin4</th>\n",
       "      <th>FTbin5</th>\n",
       "      <th>...</th>\n",
       "      <th>HTbin1</th>\n",
       "      <th>HTbin2</th>\n",
       "      <th>HTbin3</th>\n",
       "      <th>HTbin4</th>\n",
       "      <th>HTbin5</th>\n",
       "      <th>HTbin6</th>\n",
       "      <th>HTbin7</th>\n",
       "      <th>HTbin8</th>\n",
       "      <th>HTbin9</th>\n",
       "      <th>HTbin10</th>\n",
       "    </tr>\n",
       "  </thead>\n",
       "  <tbody>\n",
       "    <tr>\n",
       "      <th>194</th>\n",
       "      <td>1</td>\n",
       "      <td>16191.9876</td>\n",
       "      <td>11287.225381</td>\n",
       "      <td>168.093774</td>\n",
       "      <td>176.518917</td>\n",
       "      <td>0.227083</td>\n",
       "      <td>0.456304</td>\n",
       "      <td>0.171858</td>\n",
       "      <td>0.094345</td>\n",
       "      <td>0.05041</td>\n",
       "      <td>...</td>\n",
       "      <td>0.373581</td>\n",
       "      <td>0.367957</td>\n",
       "      <td>0.096897</td>\n",
       "      <td>0.071931</td>\n",
       "      <td>0.070748</td>\n",
       "      <td>0.01571</td>\n",
       "      <td>0.003175</td>\n",
       "      <td>0.0</td>\n",
       "      <td>0.0</td>\n",
       "      <td>0.0</td>\n",
       "    </tr>\n",
       "  </tbody>\n",
       "</table>\n",
       "<p>1 rows × 25 columns</p>\n",
       "</div>"
      ],
      "text/plain": [
       "     Parkinson       HTVar         FTVar      HTmean      FTmean    FTbin1  \\\n",
       "194          1  16191.9876  11287.225381  168.093774  176.518917  0.227083   \n",
       "\n",
       "       FTbin2    FTbin3    FTbin4   FTbin5   ...       HTbin1    HTbin2  \\\n",
       "194  0.456304  0.171858  0.094345  0.05041   ...     0.373581  0.367957   \n",
       "\n",
       "       HTbin3    HTbin4    HTbin5   HTbin6    HTbin7  HTbin8  HTbin9  HTbin10  \n",
       "194  0.096897  0.071931  0.070748  0.01571  0.003175     0.0     0.0      0.0  \n",
       "\n",
       "[1 rows x 25 columns]"
      ]
     },
     "execution_count": 216,
     "metadata": {},
     "output_type": "execute_result"
    }
   ],
   "source": [
    "df['HTbin10'].unique() # all zeros, can be removed\n",
    "df['HTbin9'].unique() # all zeros, can be removed\n",
    "df['HTbin8'].unique() # all zeros, can be removed\n",
    "df[df['HTbin7']!=0.] # only row 194 has 1 value, 0.00375% of all hold time is in ths bin, can be ignored. Can be removed"
   ]
  },
  {
   "cell_type": "code",
   "execution_count": 217,
   "metadata": {},
   "outputs": [],
   "source": [
    "df = df.drop('HTbin10', axis=1)\n",
    "df = df.drop('HTbin9', axis=1)\n",
    "df = df.drop('HTbin8', axis=1)\n",
    "df = df.drop('HTbin7', axis=1)"
   ]
  },
  {
   "cell_type": "code",
   "execution_count": 218,
   "metadata": {},
   "outputs": [],
   "source": [
    "df.to_csv('dfData/cleandf.csv')"
   ]
  },
  {
   "cell_type": "markdown",
   "metadata": {},
   "source": [
    "# Data set X and Label y created"
   ]
  },
  {
   "cell_type": "code",
   "execution_count": 219,
   "metadata": {},
   "outputs": [],
   "source": [
    "X = df.drop('Parkinson', axis=1)\n",
    "y = df['Parkinson']"
   ]
  },
  {
   "cell_type": "markdown",
   "metadata": {},
   "source": [
    "## Create training set X_train, y_train and test set X_test, y_test"
   ]
  },
  {
   "cell_type": "code",
   "execution_count": 220,
   "metadata": {},
   "outputs": [],
   "source": [
    "from sklearn.model_selection import train_test_split\n",
    "X_train, X_test, y_train, y_test = train_test_split(X, y, test_size=0.20, random_state=42)"
   ]
  },
  {
   "cell_type": "code",
   "execution_count": 221,
   "metadata": {},
   "outputs": [
    {
     "data": {
      "text/html": [
       "<div>\n",
       "<style scoped>\n",
       "    .dataframe tbody tr th:only-of-type {\n",
       "        vertical-align: middle;\n",
       "    }\n",
       "\n",
       "    .dataframe tbody tr th {\n",
       "        vertical-align: top;\n",
       "    }\n",
       "\n",
       "    .dataframe thead th {\n",
       "        text-align: right;\n",
       "    }\n",
       "</style>\n",
       "<table border=\"1\" class=\"dataframe\">\n",
       "  <thead>\n",
       "    <tr style=\"text-align: right;\">\n",
       "      <th></th>\n",
       "      <th>HTVar</th>\n",
       "      <th>FTVar</th>\n",
       "      <th>HTmean</th>\n",
       "      <th>FTmean</th>\n",
       "      <th>FTbin1</th>\n",
       "      <th>FTbin2</th>\n",
       "      <th>FTbin3</th>\n",
       "      <th>FTbin4</th>\n",
       "      <th>FTbin5</th>\n",
       "      <th>FTbin6</th>\n",
       "      <th>FTbin7</th>\n",
       "      <th>FTbin8</th>\n",
       "      <th>FTbin9</th>\n",
       "      <th>FTbin10</th>\n",
       "      <th>HTbin1</th>\n",
       "      <th>HTbin2</th>\n",
       "      <th>HTbin3</th>\n",
       "      <th>HTbin4</th>\n",
       "      <th>HTbin5</th>\n",
       "      <th>HTbin6</th>\n",
       "    </tr>\n",
       "  </thead>\n",
       "  <tbody>\n",
       "    <tr>\n",
       "      <th>17</th>\n",
       "      <td>7034.653040</td>\n",
       "      <td>109321.071619</td>\n",
       "      <td>141.548025</td>\n",
       "      <td>441.003046</td>\n",
       "      <td>0.100904</td>\n",
       "      <td>0.207044</td>\n",
       "      <td>0.123751</td>\n",
       "      <td>0.108044</td>\n",
       "      <td>0.113755</td>\n",
       "      <td>0.085198</td>\n",
       "      <td>0.058068</td>\n",
       "      <td>0.049976</td>\n",
       "      <td>0.039981</td>\n",
       "      <td>0.113279</td>\n",
       "      <td>0.500714</td>\n",
       "      <td>0.229891</td>\n",
       "      <td>0.215612</td>\n",
       "      <td>0.052832</td>\n",
       "      <td>0.000952</td>\n",
       "      <td>0.0</td>\n",
       "    </tr>\n",
       "    <tr>\n",
       "      <th>59</th>\n",
       "      <td>505.331620</td>\n",
       "      <td>33525.986326</td>\n",
       "      <td>87.586677</td>\n",
       "      <td>347.397801</td>\n",
       "      <td>0.102726</td>\n",
       "      <td>0.144686</td>\n",
       "      <td>0.187565</td>\n",
       "      <td>0.179602</td>\n",
       "      <td>0.145115</td>\n",
       "      <td>0.128515</td>\n",
       "      <td>0.093966</td>\n",
       "      <td>0.017825</td>\n",
       "      <td>0.000000</td>\n",
       "      <td>0.000000</td>\n",
       "      <td>0.715100</td>\n",
       "      <td>0.284900</td>\n",
       "      <td>0.000000</td>\n",
       "      <td>0.000000</td>\n",
       "      <td>0.000000</td>\n",
       "      <td>0.0</td>\n",
       "    </tr>\n",
       "    <tr>\n",
       "      <th>6</th>\n",
       "      <td>1812.197253</td>\n",
       "      <td>8247.491304</td>\n",
       "      <td>126.456392</td>\n",
       "      <td>143.472325</td>\n",
       "      <td>0.378970</td>\n",
       "      <td>0.358401</td>\n",
       "      <td>0.198813</td>\n",
       "      <td>0.058946</td>\n",
       "      <td>0.004870</td>\n",
       "      <td>0.000000</td>\n",
       "      <td>0.000000</td>\n",
       "      <td>0.000000</td>\n",
       "      <td>0.000000</td>\n",
       "      <td>0.000000</td>\n",
       "      <td>0.221611</td>\n",
       "      <td>0.736402</td>\n",
       "      <td>0.041987</td>\n",
       "      <td>0.000000</td>\n",
       "      <td>0.000000</td>\n",
       "      <td>0.0</td>\n",
       "    </tr>\n",
       "    <tr>\n",
       "      <th>186</th>\n",
       "      <td>1866.608946</td>\n",
       "      <td>4238.140645</td>\n",
       "      <td>147.180645</td>\n",
       "      <td>234.125806</td>\n",
       "      <td>0.000000</td>\n",
       "      <td>0.290323</td>\n",
       "      <td>0.483871</td>\n",
       "      <td>0.225806</td>\n",
       "      <td>0.000000</td>\n",
       "      <td>0.000000</td>\n",
       "      <td>0.000000</td>\n",
       "      <td>0.000000</td>\n",
       "      <td>0.000000</td>\n",
       "      <td>0.000000</td>\n",
       "      <td>0.064516</td>\n",
       "      <td>0.806452</td>\n",
       "      <td>0.129032</td>\n",
       "      <td>0.000000</td>\n",
       "      <td>0.000000</td>\n",
       "      <td>0.0</td>\n",
       "    </tr>\n",
       "    <tr>\n",
       "      <th>174</th>\n",
       "      <td>643.646538</td>\n",
       "      <td>7447.736079</td>\n",
       "      <td>100.360056</td>\n",
       "      <td>217.316311</td>\n",
       "      <td>0.064875</td>\n",
       "      <td>0.432808</td>\n",
       "      <td>0.292864</td>\n",
       "      <td>0.202039</td>\n",
       "      <td>0.007414</td>\n",
       "      <td>0.000000</td>\n",
       "      <td>0.000000</td>\n",
       "      <td>0.000000</td>\n",
       "      <td>0.000000</td>\n",
       "      <td>0.000000</td>\n",
       "      <td>0.505097</td>\n",
       "      <td>0.494903</td>\n",
       "      <td>0.000000</td>\n",
       "      <td>0.000000</td>\n",
       "      <td>0.000000</td>\n",
       "      <td>0.0</td>\n",
       "    </tr>\n",
       "  </tbody>\n",
       "</table>\n",
       "</div>"
      ],
      "text/plain": [
       "           HTVar          FTVar      HTmean      FTmean    FTbin1    FTbin2  \\\n",
       "17   7034.653040  109321.071619  141.548025  441.003046  0.100904  0.207044   \n",
       "59    505.331620   33525.986326   87.586677  347.397801  0.102726  0.144686   \n",
       "6    1812.197253    8247.491304  126.456392  143.472325  0.378970  0.358401   \n",
       "186  1866.608946    4238.140645  147.180645  234.125806  0.000000  0.290323   \n",
       "174   643.646538    7447.736079  100.360056  217.316311  0.064875  0.432808   \n",
       "\n",
       "       FTbin3    FTbin4    FTbin5    FTbin6    FTbin7    FTbin8    FTbin9  \\\n",
       "17   0.123751  0.108044  0.113755  0.085198  0.058068  0.049976  0.039981   \n",
       "59   0.187565  0.179602  0.145115  0.128515  0.093966  0.017825  0.000000   \n",
       "6    0.198813  0.058946  0.004870  0.000000  0.000000  0.000000  0.000000   \n",
       "186  0.483871  0.225806  0.000000  0.000000  0.000000  0.000000  0.000000   \n",
       "174  0.292864  0.202039  0.007414  0.000000  0.000000  0.000000  0.000000   \n",
       "\n",
       "      FTbin10    HTbin1    HTbin2    HTbin3    HTbin4    HTbin5  HTbin6  \n",
       "17   0.113279  0.500714  0.229891  0.215612  0.052832  0.000952     0.0  \n",
       "59   0.000000  0.715100  0.284900  0.000000  0.000000  0.000000     0.0  \n",
       "6    0.000000  0.221611  0.736402  0.041987  0.000000  0.000000     0.0  \n",
       "186  0.000000  0.064516  0.806452  0.129032  0.000000  0.000000     0.0  \n",
       "174  0.000000  0.505097  0.494903  0.000000  0.000000  0.000000     0.0  "
      ]
     },
     "execution_count": 221,
     "metadata": {},
     "output_type": "execute_result"
    }
   ],
   "source": [
    "X_train.head()"
   ]
  },
  {
   "cell_type": "markdown",
   "metadata": {},
   "source": [
    "# Copies of dataset with Scaler treatment: X, X_traindl, X_testdl "
   ]
  },
  {
   "cell_type": "code",
   "execution_count": 222,
   "metadata": {},
   "outputs": [],
   "source": [
    "# deep copy\n",
    "Xdl = X.copy(deep=True)\n",
    "\n",
    "X_traindl = X_train.copy(deep=True)\n",
    "X_testdl = X_test.copy(deep=True)\n",
    "\n",
    "from sklearn.preprocessing import MinMaxScaler\n",
    "scaler = MinMaxScaler()\n",
    "\n",
    "Xdl[['HTVar', 'FTVar', 'HTmean', 'FTmean']] = scaler.fit_transform(Xdl[['HTVar', 'FTVar', 'HTmean', 'FTmean']])\n",
    "\n",
    "X_traindl[['HTVar', 'FTVar', 'HTmean', 'FTmean']] = scaler.fit_transform(X_traindl[['HTVar', 'FTVar', 'HTmean', 'FTmean']])\n",
    "X_testdl[['HTVar', 'FTVar', 'HTmean', 'FTmean']] = scaler.fit_transform(X_testdl[['HTVar', 'FTVar', 'HTmean', 'FTmean']])"
   ]
  },
  {
   "cell_type": "code",
   "execution_count": 223,
   "metadata": {},
   "outputs": [
    {
     "data": {
      "text/html": [
       "<div>\n",
       "<style scoped>\n",
       "    .dataframe tbody tr th:only-of-type {\n",
       "        vertical-align: middle;\n",
       "    }\n",
       "\n",
       "    .dataframe tbody tr th {\n",
       "        vertical-align: top;\n",
       "    }\n",
       "\n",
       "    .dataframe thead th {\n",
       "        text-align: right;\n",
       "    }\n",
       "</style>\n",
       "<table border=\"1\" class=\"dataframe\">\n",
       "  <thead>\n",
       "    <tr style=\"text-align: right;\">\n",
       "      <th></th>\n",
       "      <th>HTVar</th>\n",
       "      <th>FTVar</th>\n",
       "      <th>HTmean</th>\n",
       "      <th>FTmean</th>\n",
       "      <th>FTbin1</th>\n",
       "      <th>FTbin2</th>\n",
       "      <th>FTbin3</th>\n",
       "      <th>FTbin4</th>\n",
       "      <th>FTbin5</th>\n",
       "      <th>FTbin6</th>\n",
       "      <th>FTbin7</th>\n",
       "      <th>FTbin8</th>\n",
       "      <th>FTbin9</th>\n",
       "      <th>FTbin10</th>\n",
       "      <th>HTbin1</th>\n",
       "      <th>HTbin2</th>\n",
       "      <th>HTbin3</th>\n",
       "      <th>HTbin4</th>\n",
       "      <th>HTbin5</th>\n",
       "      <th>HTbin6</th>\n",
       "    </tr>\n",
       "  </thead>\n",
       "  <tbody>\n",
       "    <tr>\n",
       "      <th>17</th>\n",
       "      <td>0.432401</td>\n",
       "      <td>0.024458</td>\n",
       "      <td>0.495007</td>\n",
       "      <td>0.167519</td>\n",
       "      <td>0.100904</td>\n",
       "      <td>0.207044</td>\n",
       "      <td>0.123751</td>\n",
       "      <td>0.108044</td>\n",
       "      <td>0.113755</td>\n",
       "      <td>0.085198</td>\n",
       "      <td>0.058068</td>\n",
       "      <td>0.049976</td>\n",
       "      <td>0.039981</td>\n",
       "      <td>0.113279</td>\n",
       "      <td>0.500714</td>\n",
       "      <td>0.229891</td>\n",
       "      <td>0.215612</td>\n",
       "      <td>0.052832</td>\n",
       "      <td>0.000952</td>\n",
       "      <td>0.0</td>\n",
       "    </tr>\n",
       "    <tr>\n",
       "      <th>59</th>\n",
       "      <td>0.027694</td>\n",
       "      <td>0.007192</td>\n",
       "      <td>0.197974</td>\n",
       "      <td>0.124868</td>\n",
       "      <td>0.102726</td>\n",
       "      <td>0.144686</td>\n",
       "      <td>0.187565</td>\n",
       "      <td>0.179602</td>\n",
       "      <td>0.145115</td>\n",
       "      <td>0.128515</td>\n",
       "      <td>0.093966</td>\n",
       "      <td>0.017825</td>\n",
       "      <td>0.000000</td>\n",
       "      <td>0.000000</td>\n",
       "      <td>0.715100</td>\n",
       "      <td>0.284900</td>\n",
       "      <td>0.000000</td>\n",
       "      <td>0.000000</td>\n",
       "      <td>0.000000</td>\n",
       "      <td>0.0</td>\n",
       "    </tr>\n",
       "    <tr>\n",
       "      <th>6</th>\n",
       "      <td>0.108698</td>\n",
       "      <td>0.001434</td>\n",
       "      <td>0.411934</td>\n",
       "      <td>0.031950</td>\n",
       "      <td>0.378970</td>\n",
       "      <td>0.358401</td>\n",
       "      <td>0.198813</td>\n",
       "      <td>0.058946</td>\n",
       "      <td>0.004870</td>\n",
       "      <td>0.000000</td>\n",
       "      <td>0.000000</td>\n",
       "      <td>0.000000</td>\n",
       "      <td>0.000000</td>\n",
       "      <td>0.000000</td>\n",
       "      <td>0.221611</td>\n",
       "      <td>0.736402</td>\n",
       "      <td>0.041987</td>\n",
       "      <td>0.000000</td>\n",
       "      <td>0.000000</td>\n",
       "      <td>0.0</td>\n",
       "    </tr>\n",
       "    <tr>\n",
       "      <th>186</th>\n",
       "      <td>0.112070</td>\n",
       "      <td>0.000521</td>\n",
       "      <td>0.526012</td>\n",
       "      <td>0.073256</td>\n",
       "      <td>0.000000</td>\n",
       "      <td>0.290323</td>\n",
       "      <td>0.483871</td>\n",
       "      <td>0.225806</td>\n",
       "      <td>0.000000</td>\n",
       "      <td>0.000000</td>\n",
       "      <td>0.000000</td>\n",
       "      <td>0.000000</td>\n",
       "      <td>0.000000</td>\n",
       "      <td>0.000000</td>\n",
       "      <td>0.064516</td>\n",
       "      <td>0.806452</td>\n",
       "      <td>0.129032</td>\n",
       "      <td>0.000000</td>\n",
       "      <td>0.000000</td>\n",
       "      <td>0.0</td>\n",
       "    </tr>\n",
       "    <tr>\n",
       "      <th>174</th>\n",
       "      <td>0.036268</td>\n",
       "      <td>0.001252</td>\n",
       "      <td>0.268286</td>\n",
       "      <td>0.065597</td>\n",
       "      <td>0.064875</td>\n",
       "      <td>0.432808</td>\n",
       "      <td>0.292864</td>\n",
       "      <td>0.202039</td>\n",
       "      <td>0.007414</td>\n",
       "      <td>0.000000</td>\n",
       "      <td>0.000000</td>\n",
       "      <td>0.000000</td>\n",
       "      <td>0.000000</td>\n",
       "      <td>0.000000</td>\n",
       "      <td>0.505097</td>\n",
       "      <td>0.494903</td>\n",
       "      <td>0.000000</td>\n",
       "      <td>0.000000</td>\n",
       "      <td>0.000000</td>\n",
       "      <td>0.0</td>\n",
       "    </tr>\n",
       "  </tbody>\n",
       "</table>\n",
       "</div>"
      ],
      "text/plain": [
       "        HTVar     FTVar    HTmean    FTmean    FTbin1    FTbin2    FTbin3  \\\n",
       "17   0.432401  0.024458  0.495007  0.167519  0.100904  0.207044  0.123751   \n",
       "59   0.027694  0.007192  0.197974  0.124868  0.102726  0.144686  0.187565   \n",
       "6    0.108698  0.001434  0.411934  0.031950  0.378970  0.358401  0.198813   \n",
       "186  0.112070  0.000521  0.526012  0.073256  0.000000  0.290323  0.483871   \n",
       "174  0.036268  0.001252  0.268286  0.065597  0.064875  0.432808  0.292864   \n",
       "\n",
       "       FTbin4    FTbin5    FTbin6    FTbin7    FTbin8    FTbin9   FTbin10  \\\n",
       "17   0.108044  0.113755  0.085198  0.058068  0.049976  0.039981  0.113279   \n",
       "59   0.179602  0.145115  0.128515  0.093966  0.017825  0.000000  0.000000   \n",
       "6    0.058946  0.004870  0.000000  0.000000  0.000000  0.000000  0.000000   \n",
       "186  0.225806  0.000000  0.000000  0.000000  0.000000  0.000000  0.000000   \n",
       "174  0.202039  0.007414  0.000000  0.000000  0.000000  0.000000  0.000000   \n",
       "\n",
       "       HTbin1    HTbin2    HTbin3    HTbin4    HTbin5  HTbin6  \n",
       "17   0.500714  0.229891  0.215612  0.052832  0.000952     0.0  \n",
       "59   0.715100  0.284900  0.000000  0.000000  0.000000     0.0  \n",
       "6    0.221611  0.736402  0.041987  0.000000  0.000000     0.0  \n",
       "186  0.064516  0.806452  0.129032  0.000000  0.000000     0.0  \n",
       "174  0.505097  0.494903  0.000000  0.000000  0.000000     0.0  "
      ]
     },
     "execution_count": 223,
     "metadata": {},
     "output_type": "execute_result"
    }
   ],
   "source": [
    "X_traindl.head()"
   ]
  },
  {
   "cell_type": "code",
   "execution_count": 224,
   "metadata": {},
   "outputs": [],
   "source": [
    "# from sklearn.decomposition import PCA\n",
    "# pca = PCA(n_components= 3) # None first, choose 3\n",
    "# X_train = pca.fit_transform(X_train)\n",
    "# # X_test = pca.fit_transform(X_test)\n",
    "# explained_var = pca.explained_variance_ratio_"
   ]
  },
  {
   "cell_type": "markdown",
   "metadata": {},
   "source": [
    "## test set label count"
   ]
  },
  {
   "cell_type": "code",
   "execution_count": 225,
   "metadata": {},
   "outputs": [
    {
     "data": {
      "text/plain": [
       "39"
      ]
     },
     "execution_count": 225,
     "metadata": {},
     "output_type": "execute_result"
    },
    {
     "data": {
      "text/plain": [
       "21"
      ]
     },
     "execution_count": 225,
     "metadata": {},
     "output_type": "execute_result"
    }
   ],
   "source": [
    "y_test.tolist().count(1)\n",
    "y_test.tolist().count(0)"
   ]
  },
  {
   "cell_type": "markdown",
   "metadata": {},
   "source": [
    "# Common functions"
   ]
  },
  {
   "cell_type": "code",
   "execution_count": 226,
   "metadata": {},
   "outputs": [],
   "source": [
    "def performance_metric(y_true, y_predict, which='f1'):\n",
    "    \"\"\" Calculates and returns the performance score between \n",
    "        true and predicted values based on the metric chosen. \"\"\"\n",
    "    score = 0.\n",
    "    if which == 'f1':\n",
    "        from sklearn.metrics import f1_score\n",
    "        score = f1_score(y_true, y_predict)\n",
    "    elif which == 'confusion':\n",
    "        from sklearn.metrics import confusion_matrix\n",
    "        score = confusion_matrix(y_true, y_predict)\n",
    "    elif which == 'precision':\n",
    "        from sklearn.metrics import precision_score\n",
    "        score = precision_score(y_true, y_predict)\n",
    "    elif which == 'recall':\n",
    "        from sklearn.metrics import recall_score\n",
    "        score = recall_score(y_true, y_predict)\n",
    "    elif which == 'auc':\n",
    "        from sklearn.metrics import roc_curve, auc\n",
    "        fpr, tpr, _ = roc_curve(y_true, y_predict)\n",
    "        score = auc(fpr, tpr)\n",
    "    # Return the score\n",
    "    return score"
   ]
  },
  {
   "cell_type": "code",
   "execution_count": 227,
   "metadata": {},
   "outputs": [],
   "source": [
    "def printMetric(y_test, predictions):\n",
    "    from decimal import Decimal\n",
    "    import matplotlib.pyplot as plt\n",
    "    %matplotlib inline    \n",
    "    f1 = performance_metric(y_test, predictions, 'f1')\n",
    "    confusion = performance_metric(y_test, predictions, 'confusion')\n",
    "    prec = performance_metric(y_test, predictions, 'precision')\n",
    "    reca = performance_metric(y_test, predictions, 'recall')\n",
    "    display(HTML('<b>Confusion matrix</b>:'))\n",
    "    display(confusion)\n",
    "    plt.show()\n",
    "    display(HTML('<b>f1</b> {},&nbsp;&nbsp; <b>precision</b> {},&nbsp;&nbsp; <b>recall</b> {}'.format(round(f1,2),round(prec,4),round(reca,4))))"
   ]
  },
  {
   "cell_type": "code",
   "execution_count": 228,
   "metadata": {},
   "outputs": [],
   "source": [
    "\n",
    "def printROC_PR(clf, X_test, y_test, y_predict):\n",
    "    from sklearn import metrics\n",
    "    from sklearn.metrics import precision_recall_curve\n",
    "    \n",
    "    #ROC\n",
    "    pred = clf.predict_proba(X_test)[:,1]\n",
    "    fpr, tpr, _ = metrics.roc_curve(y_test, pred)\n",
    "\n",
    "    precision, recall, _ = precision_recall_curve(y_test, pred)\n",
    "\n",
    "    # plot ROC\n",
    "    diagonalx=[0,1]\n",
    "    diagonaly=[0,1]\n",
    "    \n",
    "    f, (a1,a2) = plt.subplots(nrows=1,ncols=2, sharex=False, sharey=False, figsize=(16,6))\n",
    "    a1.plot(fpr, tpr)\n",
    "    a1.plot(diagonalx,diagonaly, alpha=0.4)\n",
    "    a1.set_title('ROC')\n",
    "    a1.set_xlabel('FPR (1-specificity)')\n",
    "    a1.set_ylabel('TPR (recall or sensitivity)')\n",
    "\n",
    "    # PRC\n",
    "    a2.step(recall,precision, where='post')\n",
    "    a2.set_title('Precision-Recall')\n",
    "    a2.set_xlabel('Recall')\n",
    "    a2.set_ylabel('Precision')\n",
    "    a2.vlines(1,0,1, color='orange', alpha=0.4)\n",
    "    a2.hlines(1,0,1, color='orange', alpha=0.4)\n",
    "    \n",
    "    # auc\n",
    "    auc = metrics.auc(fpr, tpr)\n",
    "    display(HTML('<b>Area under curve</b> {}'.format(round(auc,4))))"
   ]
  },
  {
   "cell_type": "markdown",
   "metadata": {},
   "source": [
    "# Benchmark with SVM SVC and DecisionTree classifier"
   ]
  },
  {
   "cell_type": "markdown",
   "metadata": {},
   "source": [
    "### Default untuned SVM SVC"
   ]
  },
  {
   "cell_type": "code",
   "execution_count": 229,
   "metadata": {
    "scrolled": false
   },
   "outputs": [
    {
     "data": {
      "text/plain": [
       "SVC(C=1.0, cache_size=200, class_weight=None, coef0=0.0,\n",
       "  decision_function_shape='ovr', degree=3, gamma='auto', kernel='rbf',\n",
       "  max_iter=-1, probability=True, random_state=None, shrinking=True,\n",
       "  tol=0.001, verbose=False)"
      ]
     },
     "execution_count": 229,
     "metadata": {},
     "output_type": "execute_result"
    },
    {
     "data": {
      "text/html": [
       "<b>Confusion matrix</b>:"
      ],
      "text/plain": [
       "<IPython.core.display.HTML object>"
      ]
     },
     "metadata": {},
     "output_type": "display_data"
    },
    {
     "data": {
      "text/plain": [
       "array([[ 0, 21],\n",
       "       [ 0, 39]])"
      ]
     },
     "metadata": {},
     "output_type": "display_data"
    },
    {
     "data": {
      "text/html": [
       "<b>f1</b> 0.79,&nbsp;&nbsp; <b>precision</b> 0.65,&nbsp;&nbsp; <b>recall</b> 1.0"
      ],
      "text/plain": [
       "<IPython.core.display.HTML object>"
      ]
     },
     "metadata": {},
     "output_type": "display_data"
    },
    {
     "data": {
      "text/html": [
       "<b>Area under curve</b> 0.6618"
      ],
      "text/plain": [
       "<IPython.core.display.HTML object>"
      ]
     },
     "metadata": {},
     "output_type": "display_data"
    },
    {
     "data": {
      "image/png": "[encoded data removed]",
      "text/plain": [
       "<matplotlib.figure.Figure at 0x1a146976a0>"
      ]
     },
     "metadata": {},
     "output_type": "display_data"
    }
   ],
   "source": [
    "from sklearn.svm import SVC\n",
    "from sklearn.metrics.scorer import make_scorer\n",
    "from sklearn.model_selection import KFold, GridSearchCV\n",
    "\n",
    "kf = KFold(n_splits=5, shuffle=True, random_state=33)\n",
    "scoring = make_scorer(performance_metric,which='f1')\n",
    "svc =SVC(probability=True)\n",
    "svc_params = {}\n",
    "\n",
    "svc.fit(X_traindl, y_train)\n",
    "\n",
    "svcpredict = svc.predict(X_testdl)\n",
    "\n",
    "printMetric(y_test, svcpredict)\n",
    "printROC_PR(svc, X_testdl, y_test, svcpredict)"
   ]
  },
  {
   "cell_type": "markdown",
   "metadata": {},
   "source": [
    "### Default untuned DecisionTreeClassifier"
   ]
  },
  {
   "cell_type": "code",
   "execution_count": 230,
   "metadata": {},
   "outputs": [
    {
     "data": {
      "text/plain": [
       "DecisionTreeClassifier(class_weight=None, criterion='gini', max_depth=5,\n",
       "            max_features=None, max_leaf_nodes=None,\n",
       "            min_impurity_decrease=0.0, min_impurity_split=None,\n",
       "            min_samples_leaf=1, min_samples_split=2,\n",
       "            min_weight_fraction_leaf=0.0, presort=False, random_state=None,\n",
       "            splitter='best')"
      ]
     },
     "execution_count": 230,
     "metadata": {},
     "output_type": "execute_result"
    },
    {
     "data": {
      "text/html": [
       "<b>Confusion matrix</b>:"
      ],
      "text/plain": [
       "<IPython.core.display.HTML object>"
      ]
     },
     "metadata": {},
     "output_type": "display_data"
    },
    {
     "data": {
      "text/plain": [
       "array([[ 5, 16],\n",
       "       [ 3, 36]])"
      ]
     },
     "metadata": {},
     "output_type": "display_data"
    },
    {
     "data": {
      "text/html": [
       "<b>f1</b> 0.79,&nbsp;&nbsp; <b>precision</b> 0.6923,&nbsp;&nbsp; <b>recall</b> 0.9231"
      ],
      "text/plain": [
       "<IPython.core.display.HTML object>"
      ]
     },
     "metadata": {},
     "output_type": "display_data"
    },
    {
     "data": {
      "text/html": [
       "<b>Area under curve</b> 0.6447"
      ],
      "text/plain": [
       "<IPython.core.display.HTML object>"
      ]
     },
     "metadata": {},
     "output_type": "display_data"
    },
    {
     "data": {
      "image/png": "[encoded data removed]",
      "text/plain": [
       "<matplotlib.figure.Figure at 0x1a141faef0>"
      ]
     },
     "metadata": {},
     "output_type": "display_data"
    }
   ],
   "source": [
    "# Default decisiontree \n",
    "from sklearn.tree import DecisionTreeClassifier\n",
    "\n",
    "dfdt = DecisionTreeClassifier(max_depth=5)\n",
    "dfdt.fit(X_traindl, y_train)\n",
    "\n",
    "dfdtpredict = dfdt.predict(X_testdl)\n",
    "dfdtpredict_proba = dfdt.predict_proba(X_testdl)\n",
    "printMetric(y_test, dfdtpredict)\n",
    "printROC_PR(dfdt, X_testdl, y_test, dfdtpredict)"
   ]
  },
  {
   "cell_type": "markdown",
   "metadata": {},
   "source": [
    "# Bagging classifiers"
   ]
  },
  {
   "cell_type": "markdown",
   "metadata": {},
   "source": [
    "### DecisionTreeClassifier as base_estimator"
   ]
  },
  {
   "cell_type": "code",
   "execution_count": 231,
   "metadata": {
    "scrolled": false
   },
   "outputs": [
    {
     "data": {
      "text/plain": [
       "GridSearchCV(cv=KFold(n_splits=5, random_state=31, shuffle=True),\n",
       "       error_score='raise',\n",
       "       estimator=BaggingClassifier(base_estimator=DecisionTreeClassifier(class_weight=None, criterion='gini', max_depth=None,\n",
       "            max_features=None, max_leaf_nodes=None,\n",
       "            min_impurity_decrease=0.0, min_impurity_split=None,\n",
       "            min_samples_leaf=1, min_samples_split=2,\n",
       "            ...0, n_estimators=10, n_jobs=1, oob_score=False,\n",
       "         random_state=5, verbose=0, warm_start=False),\n",
       "       fit_params=None, iid=True, n_jobs=1,\n",
       "       param_grid={'n_estimators': [50], 'base_estimator__splitter': ['best', 'random'], 'base_estimator__max_depth': range(3, 8), 'base_estimator__max_features': [4, 5, 6], 'base_estimator__criterion': ['gini', 'entropy']},\n",
       "       pre_dispatch='2*n_jobs', refit=True, return_train_score='warn',\n",
       "       scoring=make_scorer(performance_metric, which=f1), verbose=0)"
      ]
     },
     "execution_count": 231,
     "metadata": {},
     "output_type": "execute_result"
    },
    {
     "data": {
      "text/plain": [
       "BaggingClassifier(base_estimator=DecisionTreeClassifier(class_weight=None, criterion='entropy', max_depth=6,\n",
       "            max_features=5, max_leaf_nodes=None, min_impurity_decrease=0.0,\n",
       "            min_impurity_split=None, min_samples_leaf=1,\n",
       "            min_samples_split=2, min_weight_fraction_leaf=0.0,\n",
       "            presort=False, random_state=7, splitter='best'),\n",
       "         bootstrap=True, bootstrap_features=False, max_features=1.0,\n",
       "         max_samples=1.0, n_estimators=50, n_jobs=1, oob_score=False,\n",
       "         random_state=5, verbose=0, warm_start=False)"
      ]
     },
     "execution_count": 231,
     "metadata": {},
     "output_type": "execute_result"
    },
    {
     "data": {
      "text/html": [
       "<b>best score</b> 0.8323"
      ],
      "text/plain": [
       "<IPython.core.display.HTML object>"
      ]
     },
     "metadata": {},
     "output_type": "display_data"
    }
   ],
   "source": [
    "from sklearn.tree import DecisionTreeClassifier\n",
    "from sklearn.ensemble import BaggingClassifier\n",
    "\n",
    "from sklearn.metrics.scorer import make_scorer\n",
    "from sklearn.model_selection import KFold, GridSearchCV\n",
    "\n",
    "kf = KFold(n_splits=5, shuffle=True, random_state=31)\n",
    "scoring = make_scorer(performance_metric,which='f1')\n",
    "dt = DecisionTreeClassifier(criterion='gini', random_state=7)\n",
    "bc = BaggingClassifier(base_estimator=dt,  random_state=5) #n_estimators=50,\n",
    "bcbe_params = {'n_estimators':[50], \n",
    "                'base_estimator__criterion':['gini','entropy'],\n",
    "                'base_estimator__max_depth':range(3,8),\n",
    "                'base_estimator__splitter':['best', 'random'],\n",
    "                  'base_estimator__max_features':[4,5,6]}\n",
    "\n",
    "clf = GridSearchCV(estimator=bc, cv=kf, param_grid=bcbe_params, scoring=scoring)\n",
    "\n",
    "clf.fit(X_traindl, y_train)\n",
    "clf.best_estimator_\n",
    "display(HTML(('<b>best score</b> {}'.format(round(clf.best_score_,4)))))"
   ]
  },
  {
   "cell_type": "code",
   "execution_count": 232,
   "metadata": {},
   "outputs": [
    {
     "data": {
      "text/html": [
       "<b>Confusion matrix</b>:"
      ],
      "text/plain": [
       "<IPython.core.display.HTML object>"
      ]
     },
     "metadata": {},
     "output_type": "display_data"
    },
    {
     "data": {
      "text/plain": [
       "array([[ 8, 13],\n",
       "       [ 1, 38]])"
      ]
     },
     "metadata": {},
     "output_type": "display_data"
    },
    {
     "data": {
      "text/html": [
       "<b>f1</b> 0.84,&nbsp;&nbsp; <b>precision</b> 0.7451,&nbsp;&nbsp; <b>recall</b> 0.9744"
      ],
      "text/plain": [
       "<IPython.core.display.HTML object>"
      ]
     },
     "metadata": {},
     "output_type": "display_data"
    },
    {
     "data": {
      "text/html": [
       "<b>Area under curve</b> 0.7656"
      ],
      "text/plain": [
       "<IPython.core.display.HTML object>"
      ]
     },
     "metadata": {},
     "output_type": "display_data"
    },
    {
     "data": {
      "image/png": "[encoded data removed]",
      "text/plain": [
       "<matplotlib.figure.Figure at 0x1a14646ef0>"
      ]
     },
     "metadata": {},
     "output_type": "display_data"
    }
   ],
   "source": [
    "prediction = clf.predict(X_testdl)\n",
    "printMetric(y_test, prediction)\n",
    "printROC_PR(clf, X_testdl, y_test, prediction)"
   ]
  },
  {
   "cell_type": "markdown",
   "metadata": {},
   "source": [
    "### RandomForest classifier ( also a bagged decision tree model)"
   ]
  },
  {
   "cell_type": "code",
   "execution_count": 233,
   "metadata": {},
   "outputs": [
    {
     "data": {
      "text/plain": [
       "GridSearchCV(cv=KFold(n_splits=6, random_state=32, shuffle=True),\n",
       "       error_score='raise',\n",
       "       estimator=RandomForestClassifier(bootstrap=True, class_weight=None, criterion='gini',\n",
       "            max_depth=None, max_features='auto', max_leaf_nodes=None,\n",
       "            min_impurity_decrease=0.0, min_impurity_split=None,\n",
       "            min_samples_leaf=1, min_samples_split=2,\n",
       "            min_weight_fraction_leaf=0.0, n_estimators=10, n_jobs=1,\n",
       "            oob_score=False, random_state=6, verbose=0, warm_start=False),\n",
       "       fit_params=None, iid=True, n_jobs=1,\n",
       "       param_grid={'n_estimators': [150], 'max_features': [4], 'max_depth': [9], 'min_samples_split': [2], 'min_samples_leaf': [5]},\n",
       "       pre_dispatch='2*n_jobs', refit=True, return_train_score='warn',\n",
       "       scoring=make_scorer(performance_metric, which=f1), verbose=0)"
      ]
     },
     "execution_count": 233,
     "metadata": {},
     "output_type": "execute_result"
    }
   ],
   "source": [
    "from sklearn.cross_validation import cross_val_score\n",
    "from sklearn.ensemble import RandomForestClassifier\n",
    "\n",
    "kf = KFold(n_splits=6, shuffle=True, random_state=32)\n",
    "scoring = make_scorer(performance_metric,which='f1')\n",
    "rf = RandomForestClassifier(criterion='gini', random_state=6)\n",
    "rf_params = {'n_estimators':[150],'max_depth':[9], 'max_features':[4],'min_samples_split':[2], 'min_samples_leaf':[5]}\n",
    "rfclf = GridSearchCV(estimator=rf, cv=kf, param_grid=rf_params, scoring=scoring)\n",
    "\n",
    "rfclf.fit(X_traindl, y_train)"
   ]
  },
  {
   "cell_type": "code",
   "execution_count": 234,
   "metadata": {},
   "outputs": [
    {
     "data": {
      "text/plain": [
       "RandomForestClassifier(bootstrap=True, class_weight=None, criterion='gini',\n",
       "            max_depth=9, max_features=4, max_leaf_nodes=None,\n",
       "            min_impurity_decrease=0.0, min_impurity_split=None,\n",
       "            min_samples_leaf=5, min_samples_split=2,\n",
       "            min_weight_fraction_leaf=0.0, n_estimators=150, n_jobs=1,\n",
       "            oob_score=False, random_state=6, verbose=0, warm_start=False)"
      ]
     },
     "execution_count": 234,
     "metadata": {},
     "output_type": "execute_result"
    },
    {
     "data": {
      "text/html": [
       "<b>best score</b> 0.8219"
      ],
      "text/plain": [
       "<IPython.core.display.HTML object>"
      ]
     },
     "metadata": {},
     "output_type": "display_data"
    }
   ],
   "source": [
    "rfclf.best_estimator_\n",
    "display(HTML(('<b>best score</b> {}'.format(round(rfclf.best_score_,4)))))"
   ]
  },
  {
   "cell_type": "code",
   "execution_count": 235,
   "metadata": {},
   "outputs": [
    {
     "data": {
      "text/html": [
       "<b>Confusion matrix</b>:"
      ],
      "text/plain": [
       "<IPython.core.display.HTML object>"
      ]
     },
     "metadata": {},
     "output_type": "display_data"
    },
    {
     "data": {
      "text/plain": [
       "array([[ 9, 12],\n",
       "       [ 1, 38]])"
      ]
     },
     "metadata": {},
     "output_type": "display_data"
    },
    {
     "data": {
      "text/html": [
       "<b>f1</b> 0.85,&nbsp;&nbsp; <b>precision</b> 0.76,&nbsp;&nbsp; <b>recall</b> 0.9744"
      ],
      "text/plain": [
       "<IPython.core.display.HTML object>"
      ]
     },
     "metadata": {},
     "output_type": "display_data"
    },
    {
     "data": {
      "text/html": [
       "<b>Area under curve</b> 0.7497"
      ],
      "text/plain": [
       "<IPython.core.display.HTML object>"
      ]
     },
     "metadata": {},
     "output_type": "display_data"
    },
    {
     "data": {
      "image/png": "[encoded data removed]",
      "text/plain": [
       "<matplotlib.figure.Figure at 0x1a143dd710>"
      ]
     },
     "metadata": {},
     "output_type": "display_data"
    }
   ],
   "source": [
    "rfprediction = rfclf.predict(X_testdl)\n",
    "printMetric(y_test, rfprediction)\n",
    "printROC_PR(rfclf, X_testdl, y_test, rfprediction)"
   ]
  },
  {
   "cell_type": "markdown",
   "metadata": {},
   "source": [
    "# Boosting ensemble"
   ]
  },
  {
   "cell_type": "markdown",
   "metadata": {},
   "source": [
    "### GradientBoostingClassifier"
   ]
  },
  {
   "cell_type": "code",
   "execution_count": 236,
   "metadata": {},
   "outputs": [
    {
     "data": {
      "text/plain": [
       "GridSearchCV(cv=KFold(n_splits=6, random_state=32, shuffle=True),\n",
       "       error_score='raise',\n",
       "       estimator=GradientBoostingClassifier(criterion='friedman_mse', init=None,\n",
       "              learning_rate=0.1, loss='deviance', max_depth=3,\n",
       "              max_features=None, max_leaf_nodes=None,\n",
       "              min_impurity_decrease=0.0, min_impurity_split=None,\n",
       "              min_samples_leaf=1, min_samples_split=2,\n",
       "              min_weight_fraction_leaf=0.0, n_estimators=100,\n",
       "              presort='auto', random_state=8, subsample=1.0, verbose=0,\n",
       "              warm_start=False),\n",
       "       fit_params=None, iid=True, n_jobs=1,\n",
       "       param_grid={'n_estimators': [100], 'learning_rate': [0.035], 'max_features': [5], 'max_depth': range(3, 4), 'min_samples_split': [2], 'min_samples_leaf': [8]},\n",
       "       pre_dispatch='2*n_jobs', refit=True, return_train_score='warn',\n",
       "       scoring=make_scorer(performance_metric, which=f1), verbose=0)"
      ]
     },
     "execution_count": 236,
     "metadata": {},
     "output_type": "execute_result"
    }
   ],
   "source": [
    "from sklearn.cross_validation import cross_val_score\n",
    "from sklearn.ensemble import GradientBoostingClassifier\n",
    "\n",
    "kf = KFold(n_splits=6, shuffle=True, random_state=32)\n",
    "scoring = make_scorer(performance_metric,which='f1')\n",
    "gbclf = GradientBoostingClassifier(n_estimators=100,random_state=8)\n",
    "gb_params = {'n_estimators':[100],'learning_rate':[0.035],'max_depth':range(3,4), \n",
    "             'max_features':[5],'min_samples_split':[2], 'min_samples_leaf':[8]}\n",
    "gbclf = GridSearchCV(estimator=gbclf, cv=kf, param_grid=gb_params, scoring=scoring)\n",
    "\n",
    "gbclf.fit(X_traindl, y_train)"
   ]
  },
  {
   "cell_type": "code",
   "execution_count": 237,
   "metadata": {},
   "outputs": [
    {
     "data": {
      "text/plain": [
       "GradientBoostingClassifier(criterion='friedman_mse', init=None,\n",
       "              learning_rate=0.035, loss='deviance', max_depth=3,\n",
       "              max_features=5, max_leaf_nodes=None,\n",
       "              min_impurity_decrease=0.0, min_impurity_split=None,\n",
       "              min_samples_leaf=8, min_samples_split=2,\n",
       "              min_weight_fraction_leaf=0.0, n_estimators=100,\n",
       "              presort='auto', random_state=8, subsample=1.0, verbose=0,\n",
       "              warm_start=False)"
      ]
     },
     "execution_count": 237,
     "metadata": {},
     "output_type": "execute_result"
    },
    {
     "data": {
      "text/html": [
       "<b>best score</b> 0.8229"
      ],
      "text/plain": [
       "<IPython.core.display.HTML object>"
      ]
     },
     "metadata": {},
     "output_type": "display_data"
    }
   ],
   "source": [
    "gbclf.best_estimator_\n",
    "display(HTML(('<b>best score</b> {}'.format(round(gbclf.best_score_,4)))))"
   ]
  },
  {
   "cell_type": "code",
   "execution_count": 238,
   "metadata": {},
   "outputs": [
    {
     "data": {
      "text/html": [
       "<b>Confusion matrix</b>:"
      ],
      "text/plain": [
       "<IPython.core.display.HTML object>"
      ]
     },
     "metadata": {},
     "output_type": "display_data"
    },
    {
     "data": {
      "text/plain": [
       "array([[ 6, 15],\n",
       "       [ 2, 37]])"
      ]
     },
     "metadata": {},
     "output_type": "display_data"
    },
    {
     "data": {
      "text/html": [
       "<b>f1</b> 0.81,&nbsp;&nbsp; <b>precision</b> 0.7115,&nbsp;&nbsp; <b>recall</b> 0.9487"
      ],
      "text/plain": [
       "<IPython.core.display.HTML object>"
      ]
     },
     "metadata": {},
     "output_type": "display_data"
    },
    {
     "data": {
      "text/html": [
       "<b>Area under curve</b> 0.7985"
      ],
      "text/plain": [
       "<IPython.core.display.HTML object>"
      ]
     },
     "metadata": {},
     "output_type": "display_data"
    },
    {
     "data": {
      "image/png": "[encoded data removed]",
      "text/plain": [
       "<matplotlib.figure.Figure at 0x1a1440e5c0>"
      ]
     },
     "metadata": {},
     "output_type": "display_data"
    }
   ],
   "source": [
    "gbprediction = gbclf.predict(X_testdl)\n",
    "printMetric(y_test, gbprediction)\n",
    "printROC_PR(gbclf, X_testdl, y_test, gbprediction)"
   ]
  },
  {
   "cell_type": "markdown",
   "metadata": {},
   "source": [
    "### XGBoost Classifier"
   ]
  },
  {
   "cell_type": "code",
   "execution_count": 239,
   "metadata": {},
   "outputs": [
    {
     "data": {
      "text/plain": [
       "\"\\nhttp://xgboost.readthedocs.io/en/latest/python/python_api.html\\n(max_depth=3, learning_rate=0.01, n_estimators=149, silent=True, objective='binary:logistic', \\nbooster='gbtree', n_jobs=1, nthread=None, gamma=2.93, min_child_weight=5, max_delta_step=0, \\nsubsample=1, colsample_bytree=1, colsample_bylevel=1, reg_alpha=0, reg_lambda=1, scale_pos_weight=2, \\nbase_score=0.5, random_state=0, seed=None, missing=None, **kwargs)¶\\n\""
      ]
     },
     "execution_count": 239,
     "metadata": {},
     "output_type": "execute_result"
    },
    {
     "name": "stdout",
     "output_type": "stream",
     "text": [
      "[0]\tvalidation_0-auc:0.721612\n",
      "Will train until validation_0-auc hasn't improved in 20 rounds.\n",
      "[1]\tvalidation_0-auc:0.757631\n",
      "[2]\tvalidation_0-auc:0.747863\n",
      "[3]\tvalidation_0-auc:0.746642\n",
      "[4]\tvalidation_0-auc:0.75641\n",
      "[5]\tvalidation_0-auc:0.747253\n",
      "[6]\tvalidation_0-auc:0.747253\n",
      "[7]\tvalidation_0-auc:0.760684\n",
      "[8]\tvalidation_0-auc:0.773504\n",
      "[9]\tvalidation_0-auc:0.777167\n",
      "[10]\tvalidation_0-auc:0.773504\n",
      "[11]\tvalidation_0-auc:0.774725\n",
      "[12]\tvalidation_0-auc:0.774725\n",
      "[13]\tvalidation_0-auc:0.774725\n",
      "[14]\tvalidation_0-auc:0.774725\n",
      "[15]\tvalidation_0-auc:0.775946\n",
      "[16]\tvalidation_0-auc:0.775946\n",
      "[17]\tvalidation_0-auc:0.786935\n",
      "[18]\tvalidation_0-auc:0.79243\n",
      "[19]\tvalidation_0-auc:0.797314\n",
      "[20]\tvalidation_0-auc:0.794872\n",
      "[21]\tvalidation_0-auc:0.796093\n",
      "[22]\tvalidation_0-auc:0.788767\n",
      "[23]\tvalidation_0-auc:0.791819\n",
      "[24]\tvalidation_0-auc:0.794261\n",
      "[25]\tvalidation_0-auc:0.794261\n",
      "[26]\tvalidation_0-auc:0.797924\n",
      "[27]\tvalidation_0-auc:0.791819\n",
      "[28]\tvalidation_0-auc:0.800366\n",
      "[29]\tvalidation_0-auc:0.800366\n",
      "[30]\tvalidation_0-auc:0.800366\n",
      "[31]\tvalidation_0-auc:0.79304\n",
      "[32]\tvalidation_0-auc:0.800366\n",
      "[33]\tvalidation_0-auc:0.800366\n",
      "[34]\tvalidation_0-auc:0.79304\n",
      "[35]\tvalidation_0-auc:0.795482\n",
      "[36]\tvalidation_0-auc:0.790598\n",
      "[37]\tvalidation_0-auc:0.796703\n",
      "[38]\tvalidation_0-auc:0.796703\n",
      "[39]\tvalidation_0-auc:0.797924\n",
      "[40]\tvalidation_0-auc:0.795482\n",
      "[41]\tvalidation_0-auc:0.798535\n",
      "[42]\tvalidation_0-auc:0.799756\n",
      "[43]\tvalidation_0-auc:0.799756\n",
      "[44]\tvalidation_0-auc:0.802198\n",
      "[45]\tvalidation_0-auc:0.801587\n",
      "[46]\tvalidation_0-auc:0.801587\n",
      "[47]\tvalidation_0-auc:0.803419\n",
      "[48]\tvalidation_0-auc:0.803419\n",
      "[49]\tvalidation_0-auc:0.803419\n",
      "[50]\tvalidation_0-auc:0.807082\n",
      "[51]\tvalidation_0-auc:0.807082\n",
      "[52]\tvalidation_0-auc:0.807082\n",
      "[53]\tvalidation_0-auc:0.807082\n",
      "[54]\tvalidation_0-auc:0.80464\n",
      "[55]\tvalidation_0-auc:0.799145\n",
      "[56]\tvalidation_0-auc:0.799145\n",
      "[57]\tvalidation_0-auc:0.801587\n",
      "[58]\tvalidation_0-auc:0.802808\n",
      "[59]\tvalidation_0-auc:0.804029\n",
      "[60]\tvalidation_0-auc:0.804029\n",
      "[61]\tvalidation_0-auc:0.799145\n",
      "[62]\tvalidation_0-auc:0.800366\n",
      "[63]\tvalidation_0-auc:0.797924\n",
      "[64]\tvalidation_0-auc:0.800366\n",
      "[65]\tvalidation_0-auc:0.797924\n",
      "[66]\tvalidation_0-auc:0.797924\n",
      "[67]\tvalidation_0-auc:0.797924\n",
      "[68]\tvalidation_0-auc:0.797924\n",
      "[69]\tvalidation_0-auc:0.797924\n",
      "[70]\tvalidation_0-auc:0.795482\n",
      "Stopping. Best iteration:\n",
      "[50]\tvalidation_0-auc:0.807082\n",
      "\n",
      "[0]\tvalidation_0-auc:0.693529\n",
      "Will train until validation_0-auc hasn't improved in 20 rounds.\n",
      "[1]\tvalidation_0-auc:0.726496\n",
      "[2]\tvalidation_0-auc:0.721612\n",
      "[3]\tvalidation_0-auc:0.721612\n",
      "[4]\tvalidation_0-auc:0.716728\n",
      "[5]\tvalidation_0-auc:0.716728\n",
      "[6]\tvalidation_0-auc:0.697192\n",
      "[7]\tvalidation_0-auc:0.720391\n",
      "[8]\tvalidation_0-auc:0.721612\n",
      "[9]\tvalidation_0-auc:0.724054\n",
      "[10]\tvalidation_0-auc:0.724054\n",
      "[11]\tvalidation_0-auc:0.724054\n",
      "[12]\tvalidation_0-auc:0.721612\n",
      "[13]\tvalidation_0-auc:0.721612\n",
      "[14]\tvalidation_0-auc:0.71917\n",
      "[15]\tvalidation_0-auc:0.721612\n",
      "[16]\tvalidation_0-auc:0.720391\n",
      "[17]\tvalidation_0-auc:0.720391\n",
      "[18]\tvalidation_0-auc:0.715507\n",
      "[19]\tvalidation_0-auc:0.715507\n",
      "[20]\tvalidation_0-auc:0.715507\n",
      "[21]\tvalidation_0-auc:0.715507\n",
      "Stopping. Best iteration:\n",
      "[1]\tvalidation_0-auc:0.726496\n",
      "\n",
      "[0]\tvalidation_0-auc:0.641636\n",
      "Will train until validation_0-auc hasn't improved in 20 rounds.\n",
      "[1]\tvalidation_0-auc:0.709402\n",
      "[2]\tvalidation_0-auc:0.710623\n",
      "[3]\tvalidation_0-auc:0.708181\n",
      "[4]\tvalidation_0-auc:0.739316\n",
      "[5]\tvalidation_0-auc:0.738095\n",
      "[6]\tvalidation_0-auc:0.708791\n",
      "[7]\tvalidation_0-auc:0.725885\n",
      "[8]\tvalidation_0-auc:0.728327\n",
      "[9]\tvalidation_0-auc:0.736874\n",
      "[10]\tvalidation_0-auc:0.735653\n",
      "[11]\tvalidation_0-auc:0.734432\n",
      "[12]\tvalidation_0-auc:0.747863\n",
      "[13]\tvalidation_0-auc:0.747863\n",
      "[14]\tvalidation_0-auc:0.746642\n",
      "[15]\tvalidation_0-auc:0.736874\n",
      "[16]\tvalidation_0-auc:0.750305\n",
      "[17]\tvalidation_0-auc:0.739316\n",
      "[18]\tvalidation_0-auc:0.739316\n",
      "[19]\tvalidation_0-auc:0.747863\n",
      "[20]\tvalidation_0-auc:0.738095\n",
      "[21]\tvalidation_0-auc:0.738095\n",
      "[22]\tvalidation_0-auc:0.73199\n",
      "[23]\tvalidation_0-auc:0.733211\n",
      "[24]\tvalidation_0-auc:0.740537\n",
      "[25]\tvalidation_0-auc:0.740537\n",
      "[26]\tvalidation_0-auc:0.741758\n",
      "[27]\tvalidation_0-auc:0.740537\n",
      "[28]\tvalidation_0-auc:0.7558\n",
      "[29]\tvalidation_0-auc:0.7558\n",
      "[30]\tvalidation_0-auc:0.753358\n",
      "[31]\tvalidation_0-auc:0.7558\n",
      "[32]\tvalidation_0-auc:0.754579\n",
      "[33]\tvalidation_0-auc:0.759463\n",
      "[34]\tvalidation_0-auc:0.764347\n",
      "[35]\tvalidation_0-auc:0.758242\n",
      "[36]\tvalidation_0-auc:0.764957\n",
      "[37]\tvalidation_0-auc:0.766178\n",
      "[38]\tvalidation_0-auc:0.764957\n",
      "[39]\tvalidation_0-auc:0.766178\n",
      "[40]\tvalidation_0-auc:0.758242\n",
      "[41]\tvalidation_0-auc:0.759463\n",
      "[42]\tvalidation_0-auc:0.760684\n",
      "[43]\tvalidation_0-auc:0.760684\n",
      "[44]\tvalidation_0-auc:0.760684\n",
      "[45]\tvalidation_0-auc:0.760684\n",
      "[46]\tvalidation_0-auc:0.759463\n",
      "[47]\tvalidation_0-auc:0.759463\n",
      "[48]\tvalidation_0-auc:0.760684\n",
      "[49]\tvalidation_0-auc:0.759463\n",
      "[50]\tvalidation_0-auc:0.760684\n",
      "[51]\tvalidation_0-auc:0.760684\n",
      "[52]\tvalidation_0-auc:0.760684\n",
      "[53]\tvalidation_0-auc:0.760684\n",
      "[54]\tvalidation_0-auc:0.760684\n",
      "[55]\tvalidation_0-auc:0.758852\n",
      "[56]\tvalidation_0-auc:0.758852\n",
      "[57]\tvalidation_0-auc:0.758852\n",
      "Stopping. Best iteration:\n",
      "[37]\tvalidation_0-auc:0.766178\n",
      "\n",
      "[0]\tvalidation_0-auc:0.711233\n",
      "Will train until validation_0-auc hasn't improved in 20 rounds.\n",
      "[1]\tvalidation_0-auc:0.703907\n",
      "[2]\tvalidation_0-auc:0.714896\n",
      "[3]\tvalidation_0-auc:0.714896\n",
      "[4]\tvalidation_0-auc:0.711233\n",
      "[5]\tvalidation_0-auc:0.711233\n",
      "[6]\tvalidation_0-auc:0.711233\n",
      "[7]\tvalidation_0-auc:0.73199\n",
      "[8]\tvalidation_0-auc:0.739927\n",
      "[9]\tvalidation_0-auc:0.739927\n",
      "[10]\tvalidation_0-auc:0.738706\n",
      "[11]\tvalidation_0-auc:0.738706\n",
      "[12]\tvalidation_0-auc:0.738706\n",
      "[13]\tvalidation_0-auc:0.738706\n",
      "[14]\tvalidation_0-auc:0.738706\n",
      "[15]\tvalidation_0-auc:0.738095\n",
      "[16]\tvalidation_0-auc:0.738095\n",
      "[17]\tvalidation_0-auc:0.738095\n",
      "[18]\tvalidation_0-auc:0.739316\n",
      "[19]\tvalidation_0-auc:0.739316\n",
      "[20]\tvalidation_0-auc:0.739316\n",
      "[21]\tvalidation_0-auc:0.739316\n",
      "[22]\tvalidation_0-auc:0.739316\n",
      "[23]\tvalidation_0-auc:0.740537\n",
      "[24]\tvalidation_0-auc:0.740537\n",
      "[25]\tvalidation_0-auc:0.738095\n",
      "[26]\tvalidation_0-auc:0.738706\n",
      "[27]\tvalidation_0-auc:0.738706\n",
      "[28]\tvalidation_0-auc:0.752137\n",
      "[29]\tvalidation_0-auc:0.748474\n",
      "[30]\tvalidation_0-auc:0.748474\n",
      "[31]\tvalidation_0-auc:0.752137\n",
      "[32]\tvalidation_0-auc:0.752137\n",
      "[33]\tvalidation_0-auc:0.752137\n",
      "[34]\tvalidation_0-auc:0.752137\n",
      "[35]\tvalidation_0-auc:0.752137\n",
      "[36]\tvalidation_0-auc:0.74359\n",
      "[37]\tvalidation_0-auc:0.742369\n",
      "[38]\tvalidation_0-auc:0.7442\n",
      "[39]\tvalidation_0-auc:0.7442\n",
      "[40]\tvalidation_0-auc:0.742979\n",
      "[41]\tvalidation_0-auc:0.742979\n",
      "[42]\tvalidation_0-auc:0.742979\n",
      "[43]\tvalidation_0-auc:0.7442\n",
      "[44]\tvalidation_0-auc:0.7442\n",
      "[45]\tvalidation_0-auc:0.7442\n",
      "[46]\tvalidation_0-auc:0.7442\n",
      "[47]\tvalidation_0-auc:0.7442\n",
      "[48]\tvalidation_0-auc:0.741758\n",
      "Stopping. Best iteration:\n",
      "[28]\tvalidation_0-auc:0.752137\n",
      "\n",
      "[0]\tvalidation_0-auc:0.714286\n",
      "Will train until validation_0-auc hasn't improved in 20 rounds.\n",
      "[1]\tvalidation_0-auc:0.741758\n",
      "[2]\tvalidation_0-auc:0.749084\n",
      "[3]\tvalidation_0-auc:0.749084\n",
      "[4]\tvalidation_0-auc:0.747863\n",
      "[5]\tvalidation_0-auc:0.747863\n",
      "[6]\tvalidation_0-auc:0.747863\n",
      "[7]\tvalidation_0-auc:0.75641\n",
      "[8]\tvalidation_0-auc:0.772283\n",
      "[9]\tvalidation_0-auc:0.760684\n",
      "[10]\tvalidation_0-auc:0.760684\n",
      "[11]\tvalidation_0-auc:0.760684\n",
      "[12]\tvalidation_0-auc:0.760684\n",
      "[13]\tvalidation_0-auc:0.760684\n",
      "[14]\tvalidation_0-auc:0.769231\n",
      "[15]\tvalidation_0-auc:0.769231\n",
      "[16]\tvalidation_0-auc:0.769231\n",
      "[17]\tvalidation_0-auc:0.769231\n",
      "[18]\tvalidation_0-auc:0.762515\n",
      "[19]\tvalidation_0-auc:0.762515\n",
      "[20]\tvalidation_0-auc:0.762515\n",
      "[21]\tvalidation_0-auc:0.762515\n",
      "[22]\tvalidation_0-auc:0.762515\n",
      "[23]\tvalidation_0-auc:0.771673\n",
      "[24]\tvalidation_0-auc:0.769231\n",
      "[25]\tvalidation_0-auc:0.766789\n",
      "[26]\tvalidation_0-auc:0.775336\n",
      "[27]\tvalidation_0-auc:0.778999\n",
      "[28]\tvalidation_0-auc:0.791209\n",
      "[29]\tvalidation_0-auc:0.791209\n",
      "[30]\tvalidation_0-auc:0.788767\n",
      "[31]\tvalidation_0-auc:0.789988\n",
      "[32]\tvalidation_0-auc:0.789988\n",
      "[33]\tvalidation_0-auc:0.791209\n",
      "[34]\tvalidation_0-auc:0.791209\n",
      "[35]\tvalidation_0-auc:0.791209\n",
      "[36]\tvalidation_0-auc:0.79243\n",
      "[37]\tvalidation_0-auc:0.79243\n",
      "[38]\tvalidation_0-auc:0.79243\n",
      "[39]\tvalidation_0-auc:0.79243\n",
      "[40]\tvalidation_0-auc:0.791209\n",
      "[41]\tvalidation_0-auc:0.791209\n",
      "[42]\tvalidation_0-auc:0.789988\n",
      "[43]\tvalidation_0-auc:0.788767\n",
      "[44]\tvalidation_0-auc:0.789988\n",
      "[45]\tvalidation_0-auc:0.788767\n",
      "[46]\tvalidation_0-auc:0.789988\n",
      "[47]\tvalidation_0-auc:0.789988\n",
      "[48]\tvalidation_0-auc:0.787546\n",
      "[49]\tvalidation_0-auc:0.787546\n"
     ]
    },
    {
     "name": "stdout",
     "output_type": "stream",
     "text": [
      "[50]\tvalidation_0-auc:0.791209\n",
      "[51]\tvalidation_0-auc:0.791209\n",
      "[52]\tvalidation_0-auc:0.789988\n",
      "[53]\tvalidation_0-auc:0.785104\n",
      "[54]\tvalidation_0-auc:0.785104\n",
      "[55]\tvalidation_0-auc:0.786935\n",
      "[56]\tvalidation_0-auc:0.786935\n",
      "Stopping. Best iteration:\n",
      "[36]\tvalidation_0-auc:0.79243\n",
      "\n",
      "[0]\tvalidation_0-auc:0.740537\n",
      "Will train until validation_0-auc hasn't improved in 20 rounds.\n",
      "[1]\tvalidation_0-auc:0.75641\n",
      "[2]\tvalidation_0-auc:0.761294\n",
      "[3]\tvalidation_0-auc:0.761294\n",
      "[4]\tvalidation_0-auc:0.761294\n",
      "[5]\tvalidation_0-auc:0.761294\n",
      "[6]\tvalidation_0-auc:0.761294\n",
      "[7]\tvalidation_0-auc:0.785104\n",
      "[8]\tvalidation_0-auc:0.796703\n",
      "[9]\tvalidation_0-auc:0.801587\n",
      "[10]\tvalidation_0-auc:0.796703\n",
      "[11]\tvalidation_0-auc:0.794261\n",
      "[12]\tvalidation_0-auc:0.79243\n",
      "[13]\tvalidation_0-auc:0.791209\n",
      "[14]\tvalidation_0-auc:0.791209\n",
      "[15]\tvalidation_0-auc:0.789988\n",
      "[16]\tvalidation_0-auc:0.789988\n",
      "[17]\tvalidation_0-auc:0.789988\n",
      "[18]\tvalidation_0-auc:0.791209\n",
      "[19]\tvalidation_0-auc:0.791209\n",
      "[20]\tvalidation_0-auc:0.788767\n",
      "[21]\tvalidation_0-auc:0.788767\n",
      "[22]\tvalidation_0-auc:0.788767\n",
      "[23]\tvalidation_0-auc:0.794872\n",
      "[24]\tvalidation_0-auc:0.796093\n",
      "[25]\tvalidation_0-auc:0.794872\n",
      "[26]\tvalidation_0-auc:0.794872\n",
      "[27]\tvalidation_0-auc:0.794872\n",
      "[28]\tvalidation_0-auc:0.799756\n",
      "[29]\tvalidation_0-auc:0.799756\n",
      "Stopping. Best iteration:\n",
      "[9]\tvalidation_0-auc:0.801587\n",
      "\n"
     ]
    },
    {
     "data": {
      "text/plain": [
       "GridSearchCV(cv=KFold(n_splits=5, random_state=85, shuffle=True),\n",
       "       error_score='raise',\n",
       "       estimator=XGBClassifier(base_score=0.5, booster='gbtree', colsample_bylevel=1,\n",
       "       colsample_bytree=1, gamma=0, learning_rate=0.1, max_delta_step=0,\n",
       "       max_depth=3, min_child_weight=1, missing=None, n_estimators=100,\n",
       "       n_jobs=1, nthread=None, objective='binary:logistic',\n",
       "       random_state=23, reg_alpha=0, reg_lambda=1, scale_pos_weight=1,\n",
       "       seed=None, silent=True, subsample=1),\n",
       "       fit_params=None, iid=True, n_jobs=1,\n",
       "       param_grid={'n_estimators': [500], 'subsample': [1], 'reg_alpha': [0.001], 'max_depth': [3], 'scale_pos_weight': [0.81], 'max_delta_step': [0], 'booster': ['gbtree'], 'gamma': [1], 'colsample_bytree': [0.81], 'learning_rate': [0.01], 'reg_lambda': [1], 'min_child_weight': [5], 'base_score': [0.48]},\n",
       "       pre_dispatch='2*n_jobs', refit=True, return_train_score='warn',\n",
       "       scoring='roc_auc', verbose=0)"
      ]
     },
     "execution_count": 239,
     "metadata": {},
     "output_type": "execute_result"
    }
   ],
   "source": [
    "from xgboost import XGBClassifier\n",
    "from sklearn.model_selection import RandomizedSearchCV\n",
    "from sklearn.metrics.scorer import make_scorer\n",
    "from sklearn.model_selection import KFold, GridSearchCV\n",
    "\n",
    "kf = KFold(n_splits=5, shuffle=True, random_state=85)\n",
    "auc_score = make_scorer(performance_metric,which='auc')\n",
    "xg = XGBClassifier(random_state=23) #scale_pos_weight=1,\n",
    "'''\n",
    "http://xgboost.readthedocs.io/en/latest/python/python_api.html\n",
    "(max_depth=3, learning_rate=0.01, n_estimators=149, silent=True, objective='binary:logistic', \n",
    "booster='gbtree', n_jobs=1, nthread=None, gamma=2.93, min_child_weight=5, max_delta_step=0, \n",
    "subsample=1, colsample_bytree=1, colsample_bylevel=1, reg_alpha=0, reg_lambda=1, scale_pos_weight=2, \n",
    "base_score=0.5, random_state=0, seed=None, missing=None, **kwargs)¶\n",
    "'''\n",
    "\n",
    "xg_params = {'n_estimators':[500],'learning_rate':[0.01],'max_depth':[3],\n",
    "             'scale_pos_weight':[0.81], 'min_child_weight':[5], 'gamma':[1],\n",
    "            'reg_alpha':[0.001],'reg_lambda':[1], \n",
    "             'booster':['gbtree'],'subsample':[1], 'colsample_bytree':[0.81],\n",
    "            'max_delta_step':[0],'base_score':[0.48]}\n",
    "# search = RandomizedSearchCV(estimator=xg, cv=kf, param_distributions=xg_params, n_iter = 150, scoring='roc_auc')\n",
    "xgclf = GridSearchCV(estimator=xg, cv=kf, param_grid=xg_params, scoring='roc_auc', verbose=0)\n",
    "testset = [(X_testdl, y_test)]\n",
    "xgclf.fit(X_traindl, y_train, eval_metric='auc', eval_set=testset, verbose=True,early_stopping_rounds=20)\n"
   ]
  },
  {
   "cell_type": "code",
   "execution_count": 240,
   "metadata": {},
   "outputs": [
    {
     "data": {
      "text/plain": [
       "XGBClassifier(base_score=0.48, booster='gbtree', colsample_bylevel=1,\n",
       "       colsample_bytree=0.81, gamma=1, learning_rate=0.01,\n",
       "       max_delta_step=0, max_depth=3, min_child_weight=5, missing=None,\n",
       "       n_estimators=500, n_jobs=1, nthread=None,\n",
       "       objective='binary:logistic', random_state=23, reg_alpha=0.001,\n",
       "       reg_lambda=1, scale_pos_weight=0.81, seed=None, silent=True,\n",
       "       subsample=1)"
      ]
     },
     "execution_count": 240,
     "metadata": {},
     "output_type": "execute_result"
    },
    {
     "data": {
      "text/html": [
       "<b>best score</b> 0.6977"
      ],
      "text/plain": [
       "<IPython.core.display.HTML object>"
      ]
     },
     "metadata": {},
     "output_type": "display_data"
    },
    {
     "name": "stderr",
     "output_type": "stream",
     "text": [
      "/usr/local/anaconda3/envs/udaciouspy36/lib/python3.5/site-packages/sklearn/model_selection/_search.py:761: DeprecationWarning: The grid_scores_ attribute was deprecated in version 0.18 in favor of the more elaborate cv_results_ attribute. The grid_scores_ attribute will not be available from 0.20\n",
      "  DeprecationWarning)\n"
     ]
    },
    {
     "data": {
      "text/plain": [
       "[mean: 0.69768, std: 0.06281, params: {'n_estimators': 500, 'subsample': 1, 'reg_alpha': 0.001, 'max_depth': 3, 'booster': 'gbtree', 'max_delta_step': 0, 'gamma': 1, 'colsample_bytree': 0.81, 'learning_rate': 0.01, 'reg_lambda': 1, 'min_child_weight': 5, 'scale_pos_weight': 0.81, 'base_score': 0.48}]"
      ]
     },
     "metadata": {},
     "output_type": "display_data"
    }
   ],
   "source": [
    "xgclf.best_estimator_\n",
    "display(HTML(('<b>best score</b> {}'.format(round(xgclf.best_score_,4)))))\n",
    "display(xgclf.grid_scores_)"
   ]
  },
  {
   "cell_type": "code",
   "execution_count": 241,
   "metadata": {},
   "outputs": [
    {
     "data": {
      "text/html": [
       "<b>Confusion matrix</b>:"
      ],
      "text/plain": [
       "<IPython.core.display.HTML object>"
      ]
     },
     "metadata": {},
     "output_type": "display_data"
    },
    {
     "data": {
      "text/plain": [
       "array([[ 8, 13],\n",
       "       [ 2, 37]])"
      ]
     },
     "metadata": {},
     "output_type": "display_data"
    },
    {
     "data": {
      "text/html": [
       "<b>f1</b> 0.83,&nbsp;&nbsp; <b>precision</b> 0.74,&nbsp;&nbsp; <b>recall</b> 0.9487"
      ],
      "text/plain": [
       "<IPython.core.display.HTML object>"
      ]
     },
     "metadata": {},
     "output_type": "display_data"
    },
    {
     "data": {
      "text/html": [
       "<b>Area under curve</b> 0.7998"
      ],
      "text/plain": [
       "<IPython.core.display.HTML object>"
      ]
     },
     "metadata": {},
     "output_type": "display_data"
    },
    {
     "data": {
      "image/png": "[encoded data removed]",
      "text/plain": [
       "<matplotlib.figure.Figure at 0x1a14211390>"
      ]
     },
     "metadata": {},
     "output_type": "display_data"
    }
   ],
   "source": [
    "xgprediction = xgclf.predict(X_testdl)\n",
    "printMetric(y_test, xgprediction)\n",
    "printROC_PR(xgclf, X_testdl, y_test, xgprediction)"
   ]
  },
  {
   "cell_type": "code",
   "execution_count": 242,
   "metadata": {},
   "outputs": [
    {
     "data": {
      "text/plain": [
       "<matplotlib.axes._subplots.AxesSubplot at 0x1a0aafcc88>"
      ]
     },
     "execution_count": 242,
     "metadata": {},
     "output_type": "execute_result"
    },
    {
     "data": {
      "image/png": "[encoded data removed]",
      "text/plain": [
       "<matplotlib.figure.Figure at 0x1030d94a8>"
      ]
     },
     "metadata": {},
     "output_type": "display_data"
    }
   ],
   "source": [
    "# Glimpse of feature importance\n",
    "import xgboost\n",
    "xgdmat = xgboost.DMatrix(X_traindl, y_train)\n",
    "xgparams = {'n_estimators':200,'learning_rate':0.01,'max_depth':3,\n",
    "             'scale_pos_weight':2, 'min_child_weight':5, 'gamma':1,\n",
    "            'reg_alpha':0.001,'reg_lambda':1, \n",
    "             'booster':'gbtree','subsample':1, 'colsample_bytree':1,\n",
    "            'max_delta_step':0}\n",
    "fxgclf = xgboost.train(xgparams, xgdmat)\n",
    "from xgboost import plot_importance\n",
    "plot_importance(fxgclf)"
   ]
  },
  {
   "cell_type": "markdown",
   "metadata": {},
   "source": [
    "# Voting ensemble"
   ]
  },
  {
   "cell_type": "code",
   "execution_count": 252,
   "metadata": {},
   "outputs": [
    {
     "data": {
      "text/plain": [
       "VotingClassifier(estimators=[('rf', GridSearchCV(cv=KFold(n_splits=6, random_state=32, shuffle=True),\n",
       "       error_score='raise',\n",
       "       estimator=RandomForestClassifier(bootstrap=True, class_weight=None, criterion='gini',\n",
       "            max_depth=None, max_features='auto', max_leaf_nodes=None,\n",
       "            min_impurity...e_dispatch='2*n_jobs', refit=True, return_train_score='warn',\n",
       "       scoring='roc_auc', verbose=0))],\n",
       "         flatten_transform=None, n_jobs=1, voting='soft',\n",
       "         weights=[5, 3, 3])"
      ]
     },
     "execution_count": 252,
     "metadata": {},
     "output_type": "execute_result"
    },
    {
     "data": {
      "text/html": [
       "<b>Confusion matrix</b>:"
      ],
      "text/plain": [
       "<IPython.core.display.HTML object>"
      ]
     },
     "metadata": {},
     "output_type": "display_data"
    },
    {
     "data": {
      "text/plain": [
       "array([[ 9, 12],\n",
       "       [ 1, 38]])"
      ]
     },
     "metadata": {},
     "output_type": "display_data"
    },
    {
     "data": {
      "text/html": [
       "<b>f1</b> 0.85,&nbsp;&nbsp; <b>precision</b> 0.76,&nbsp;&nbsp; <b>recall</b> 0.9744"
      ],
      "text/plain": [
       "<IPython.core.display.HTML object>"
      ]
     },
     "metadata": {},
     "output_type": "display_data"
    },
    {
     "data": {
      "text/html": [
       "<b>Area under curve</b> 0.79"
      ],
      "text/plain": [
       "<IPython.core.display.HTML object>"
      ]
     },
     "metadata": {},
     "output_type": "display_data"
    },
    {
     "data": {
      "image/png": "[encoded data removed]",
      "text/plain": [
       "<matplotlib.figure.Figure at 0x1a150f9ba8>"
      ]
     },
     "metadata": {},
     "output_type": "display_data"
    }
   ],
   "source": [
    "from sklearn.ensemble import VotingClassifier\n",
    "from sklearn.tree import DecisionTreeClassifier\n",
    "from sklearn.neighbors import KNeighborsClassifier\n",
    "from sklearn.linear_model import LogisticRegression\n",
    "\n",
    "v1 = rfclf # RandomForest\n",
    "v2 = clf # Bagging DecisionTree Classifier\n",
    "v3 = xgclf # XGBClassifier\n",
    "\n",
    "vclf = VotingClassifier(estimators=[('rf',v1),('b_dt',v2),('xgb',v3)],\n",
    "                       voting='soft', weights=[5,3,3])\n",
    "vclf.fit(X_traindl, y_train)\n",
    "\n",
    "vprediction = vclf.predict(X_testdl)\n",
    "printMetric(y_test, vprediction)\n",
    "printROC_PR(vclf, X_testdl, y_test, vprediction)"
   ]
  },
  {
   "cell_type": "code",
   "execution_count": null,
   "metadata": {},
   "outputs": [],
   "source": []
  }
 ],
 "metadata": {
  "kernelspec": {
   "display_name": "Python 3",
   "language": "python",
   "name": "python3"
  },
  "language_info": {
   "codemirror_mode": {
    "name": "ipython",
    "version": 3
   },
   "file_extension": ".py",
   "mimetype": "text/x-python",
   "name": "python",
   "nbconvert_exporter": "python",
   "pygments_lexer": "ipython3",
   "version": "3.5.4"
  }
 },
 "nbformat": 4,
 "nbformat_minor": 2
}
